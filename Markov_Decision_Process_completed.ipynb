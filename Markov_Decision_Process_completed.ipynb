{
  "cells": [
    {
      "cell_type": "markdown",
      "metadata": {
        "id": "view-in-github",
        "colab_type": "text"
      },
      "source": [
        "<a href=\"https://colab.research.google.com/github/AKALANKA28/Markov_Decision_Process/blob/master/Markov_Decision_Process_completed.ipynb\" target=\"_parent\"><img src=\"https://colab.research.google.com/assets/colab-badge.svg\" alt=\"Open In Colab\"/></a>"
      ]
    },
    {
      "cell_type": "markdown",
      "metadata": {
        "id": "-LMwDZHlsAvn"
      },
      "source": [
        "# Markov Decision Process (MDP)"
      ]
    },
    {
      "cell_type": "markdown",
      "metadata": {
        "id": "rK2etKh-sAvo"
      },
      "source": [
        "### Ransalu Senanayake"
      ]
    },
    {
      "cell_type": "code",
      "execution_count": 16,
      "metadata": {
        "id": "Tlr-PNcssAvp"
      },
      "outputs": [],
      "source": [
        "import copy\n",
        "import timeit\n",
        "import numpy as np\n",
        "import matplotlib.pyplot as pl\n",
        "%matplotlib inline\n",
        "from ipywidgets import interactive\n",
        "import ipywidgets as widgets"
      ]
    },
    {
      "cell_type": "markdown",
      "metadata": {
        "id": "_f6VSXlQsAvs"
      },
      "source": [
        "Create the following grid world.\n",
        "\n",
        "**States:** A 10x10 grid\n",
        "\n",
        "**Actions:** Up, Down, Left, Right\n",
        "\n",
        "**Tranistion probabilities:**\n",
        "* 0.7 in the direction of action\n",
        "* 0.1 in the three other directions\n",
        "* The robot bounces back to the same state near edges\n",
        "\n",
        "**Rewards:**\n",
        "* (7,8) has a reward +10\n",
        "* (2,7) has a reward +3\n",
        "* (4,3) has a reward -5\n",
        "* (7,3) has a reward -10\n",
        "* No reward in other states\n",
        "\n",
        "This example is based on Decision Making Under Uncertainty by M.J. Kochenderfer."
      ]
    },
    {
      "cell_type": "code",
      "execution_count": 17,
      "metadata": {
        "id": "sbT7VOEQsAvt"
      },
      "outputs": [],
      "source": [
        "#Let's define MDP paras\n",
        "def createGrid10World():\n",
        "    def xy2s(y, x):\n",
        "        x = max(x, 0)\n",
        "        y = max(y, 0)\n",
        "        x = min(x, 9)\n",
        "        y = min(y, 9)\n",
        "        out = np.ravel_multi_index(np.array([x,y]), (10,10))\n",
        "        return out\n",
        "\n",
        "    def s2xy(s):\n",
        "        x, y = np.unravel_index(s, (10,10))\n",
        "        return y, x\n",
        "\n",
        "    def gridPlot(ax, im, title='', cmap='Blues'):\n",
        "        pl.imshow(im, interpolation='none', cmap=cmap, origin='lower')\n",
        "        pl.colorbar()\n",
        "        ax.set_xticks(np.arange(0, 10, 1));\n",
        "        ax.set_yticks(np.arange(0, 10, 1));\n",
        "        ax.set_xticklabels(np.arange(0, 10, 1));\n",
        "        ax.set_yticklabels(np.arange(0, 10, 1));\n",
        "        ax.set_xticks(np.arange(-.5, 10, 1), minor=True);\n",
        "        ax.set_yticks(np.arange(-.5, 10, 1), minor=True);\n",
        "        ax.grid(which='minor', color='w', linestyle='-', linewidth=1)\n",
        "        pl.title(title);\n",
        "        return\n",
        "\n",
        "    A = ['left', 'right', 'up', 'down']\n",
        "    S = np.arange(100)\n",
        "    T = np.zeros((len(S), len(A), len(S)))\n",
        "    R = np.zeros((len(S), len(A)))\n",
        "    for s in S:\n",
        "        x, y = s2xy(s)\n",
        "        if x == 2 and y == 7:\n",
        "            R[s, :] = 3\n",
        "        elif x == 7 and y == 8:\n",
        "            R[s, :] = 10\n",
        "        else:\n",
        "            if x == 7 and y == 3:\n",
        "                R[s, :] = -10\n",
        "            elif x == 4 and y == 3:\n",
        "                R[s, :] = -5\n",
        "            elif x == 0:\n",
        "                if y == 0 or y == 9:\n",
        "                    R[s, :] = -0.2\n",
        "                else:\n",
        "                    R[s, :] = -0.1\n",
        "                R[s, 0] = -0.7\n",
        "            elif x == 9:\n",
        "                if y == 0 or y == 9:\n",
        "                    R[s, :] = -0.2\n",
        "                else:\n",
        "                    R[s, :] = -0.1\n",
        "                R[s, 1] = -0.7\n",
        "            elif y == 0:\n",
        "                if x == 0 or x == 9:\n",
        "                    R[s, :] = -0.2\n",
        "                else:\n",
        "                    R[s, :] = -0.1\n",
        "                R[s, 3] = -0.7\n",
        "            elif y == 9:\n",
        "                if x == 0 or x == 9:\n",
        "                    R[s, :] = -0.2\n",
        "                else:\n",
        "                    R[s, :] = -0.1\n",
        "                R[s, 2] = -0.7\n",
        "\n",
        "            for a in A:\n",
        "                if a == 'left':\n",
        "                    T[s, 0, xy2s(x - 1, y)] += 0.7\n",
        "                    T[s, 0, xy2s(x + 1, y)] += 0.1\n",
        "                    T[s, 0, xy2s(x, y - 1)] += 0.1\n",
        "                    T[s, 0, xy2s(x, y + 1)] += 0.1\n",
        "                elif a == 'right':\n",
        "                    T[s, 1, xy2s(x + 1, y)] += 0.7\n",
        "                    T[s, 1, xy2s(x - 1, y)] += 0.1\n",
        "                    T[s, 1, xy2s(x, y - 1)] += 0.1\n",
        "                    T[s, 1, xy2s(x, y + 1)] += 0.1\n",
        "                elif a == 'up':\n",
        "                    T[s, 2, xy2s(x, y + 1)] += 0.7\n",
        "                    T[s, 2, xy2s(x, y - 1)] += 0.1\n",
        "                    T[s, 2, xy2s(x - 1, y)] += 0.1\n",
        "                    T[s, 2, xy2s(x + 1, y)] += 0.1\n",
        "                elif a == 'down':\n",
        "                    T[s, 3, xy2s(x, y - 1)] += 0.7\n",
        "                    T[s, 3, xy2s(x, y + 1)] += 0.1\n",
        "                    T[s, 3, xy2s(x - 1, y)] += 0.1\n",
        "                    T[s, 3, xy2s(x + 1, y)] += 0.1\n",
        "\n",
        "    for a, c_x, c_y in [(0,0,0), (0,0,9),(1,9,0),(1,9,9),(2,0,9),(2,9,9),(3,0,0),(3,9,0)]:\n",
        "        R[xy2s(c_x,c_y),a] = -0.8\n",
        "\n",
        "    discount = 0.9\n",
        "\n",
        "    nextStates = {}\n",
        "    for si in range(len(S)):\n",
        "        for ai in range(len(A)):\n",
        "            nextStates[(si,ai)] = np.where((T[si, ai, :] != 0) == True)[0]\n",
        "\n",
        "    return {'S':S, 'A':A, 'T':T, 'R':R, 'discount':discount, 'nextStates':nextStates, 'gridPlot':gridPlot, 'xy2s':xy2s, 's2xy':s2xy}"
      ]
    },
    {
      "cell_type": "code",
      "execution_count": 18,
      "metadata": {
        "id": "BylriiRqsAvv"
      },
      "outputs": [],
      "source": [
        "class MDP():\n",
        "    def __init__(self):\n",
        "        pass\n",
        "\n",
        "    def inbuilt_init(self, mdp_dict):\n",
        "        self.S = mdp_dict['S']\n",
        "        self.A = mdp_dict['A']\n",
        "        self.T = mdp_dict['T']\n",
        "        self.R = mdp_dict['R']\n",
        "        self.discount = mdp_dict['discount']\n",
        "        self.nextStates = mdp_dict['nextStates']\n",
        "        self.gridPlot = mdp_dict['gridPlot']\n",
        "        self.xy2s = mdp_dict['xy2s']\n",
        "        self.s2xy = mdp_dict['s2xy']"
      ]
    },
    {
      "cell_type": "code",
      "execution_count": 19,
      "metadata": {
        "colab": {
          "base_uri": "https://localhost:8080/",
          "height": 1000
        },
        "id": "QGcCuJpasAvy",
        "outputId": "82bff42e-83fb-4bde-9342-ae4b1cddb9c3"
      },
      "outputs": [
        {
          "output_type": "display_data",
          "data": {
            "text/plain": [
              "<Figure size 300x300 with 2 Axes>"
            ],
            "image/png": "[encoded data removed]"
          },
          "metadata": {}
        },
        {
          "output_type": "display_data",
          "data": {
            "text/plain": [
              "<Figure size 1500x300 with 8 Axes>"
            ],
            "image/png": "[encoded data removed]"
          },
          "metadata": {}
        },
        {
          "output_type": "display_data",
          "data": {
            "text/plain": [
              "<Figure size 1500x300 with 8 Axes>"
            ],
            "image/png": "[encoded data removed]"
          },
          "metadata": {}
        },
        {
          "output_type": "display_data",
          "data": {
            "text/plain": [
              "<Figure size 1500x300 with 8 Axes>"
            ],
            "image/png": "[encoded data removed]"
          },
          "metadata": {}
        }
      ],
      "source": [
        "#Define the MDP\n",
        "mdp = MDP()\n",
        "mdp.inbuilt_init(mdp_dict=createGrid10World())\n",
        "\n",
        "#Plot states\n",
        "pl.figure(figsize=(3,3))\n",
        "mdp.gridPlot(ax=pl.gca(), im=mdp.S.reshape((10,10)), title='States', cmap='Greys')\n",
        "\n",
        "#Plot rewards\n",
        "pl.figure(figsize=(15,3))\n",
        "pl.suptitle('Rewards', fontsize=15)\n",
        "for a in range(4):\n",
        "    pl.subplot(1,4,a+1)\n",
        "    mdp.gridPlot(ax=pl.gca(), im=mdp.R[:,a].reshape((10,10)), title='a='+mdp.A[a], cmap='jet')\n",
        "pl.show()\n",
        "\n",
        "#Plot rewards\n",
        "pl.figure(figsize=(15,3))\n",
        "pl.suptitle('Rewards - clipped larger +ve values for visualizing the edges', fontsize=15)\n",
        "for a in range(4):\n",
        "    pl.subplot(1,4,a+1)\n",
        "    mdp.gridPlot(ax=pl.gca(), im=np.clip(mdp.R[:,a].reshape((10,10)), -1, -0.5), title='a='+mdp.A[a], cmap='jet')\n",
        "pl.show()\n",
        "\n",
        "#Plot rewards\n",
        "s0_x, s0_y = 3, 5\n",
        "s0 = mdp.xy2s(s0_x, s0_y)\n",
        "pl.figure(figsize=(15,3))\n",
        "pl.suptitle('Transition probabilities T(s1|s0=({},{}),a)'.format(s0_x, s0_y), fontsize=15)\n",
        "for a in range(4):\n",
        "    pl.subplot(1,4,a+1)\n",
        "    mdp.gridPlot(ax=pl.gca(), im=mdp.T[s0,a,:].reshape((10,10)), title='a='+mdp.A[a], cmap='Blues')\n",
        "pl.show()"
      ]
    },
    {
      "cell_type": "code",
      "execution_count": 20,
      "metadata": {
        "colab": {
          "base_uri": "https://localhost:8080/",
          "height": 610,
          "referenced_widgets": [
            "d243b398b4684519a72d7ec388a6434a",
            "a280f2e8592e4d1d9ed7211dfe1bb0d0",
            "a08bb7c96d2245489a56d6fee38c5edb",
            "d65234647ee843b587cb905e3f7becd4",
            "027f18777d7043799c470d9a6047dfda",
            "080bf8585e1648c08ee84d3a3d39be1e",
            "6ae88598608d4450bacded27563a2b66",
            "e2d329d179ea4d4797f94dba95ad5c19",
            "237ad7b057ed49589e7c1d6f781d367e",
            "9a6af3297d404023bc4fc38777e7c31f",
            "d1241acc0de24eebafb6ca491a9a8711",
            "873c5d7d7218429483f6714585ba3a01",
            "9525c34513974a1595b537b8d0c6419f"
          ]
        },
        "id": "WSh9F6O2sAv1",
        "outputId": "1fa1eb7a-1663-481f-9cc8-5daa9df9fec7"
      },
      "outputs": [
        {
          "output_type": "display_data",
          "data": {
            "text/plain": [
              "interactive(children=(Text(value='4', description='s0_x'), Text(value='5', description='s0_y'), ToggleButtons(…"
            ],
            "application/vnd.jupyter.widget-view+json": {
              "version_major": 2,
              "version_minor": 0,
              "model_id": "d243b398b4684519a72d7ec388a6434a"
            }
          },
          "metadata": {}
        }
      ],
      "source": [
        "#An interactive plot of transition probabilities\n",
        "def f(s0_x, s0_y, action):\n",
        "    a = mdp.A.index(action)\n",
        "    s0 = mdp.xy2s(int(s0_x), int(s0_y))\n",
        "    pl.figure(figsize=(6,6))\n",
        "    title = 'Transition probabilities T(s1|s0=({},{}),a={})'.format(int(s0_x),int(s0_y),action)\n",
        "    mdp.gridPlot(ax=pl.gca(), im=mdp.T[s0,a,:].reshape((10,10)), title=title, cmap='Blues')\n",
        "    pl.show()\n",
        "\n",
        "interactive_plot = interactive(f, s0_x='4', s0_y='5', action=widgets.ToggleButtons(options=['left', 'right', 'up', 'down']))\n",
        "interactive_plot"
      ]
    },
    {
      "cell_type": "markdown",
      "metadata": {
        "id": "CRtcTdgOsAv4"
      },
      "source": [
        "### 1. Policy evaluation\n",
        "\n",
        "Computing the utility, U.\n",
        "\n",
        "$U^\\pi_k(s) = R(s, \\pi(s)) + \\gamma \\sum_{s'} T(s' \\mid s, \\pi(s))U^\\pi_{k-1}(s')$"
      ]
    },
    {
      "cell_type": "code",
      "execution_count": 21,
      "metadata": {
        "id": "cT2yS--rsAv4"
      },
      "outputs": [],
      "source": [
        "\n",
        "def iterativePolicyEvaluation(mdp, policy, numIterations=10):\n",
        "    # support both dict-like and object-like mdp\n",
        "    getS = (mdp.S if hasattr(mdp, 'S') else mdp['S'])\n",
        "    getT = (mdp.T if hasattr(mdp, 'T') else mdp['T'])\n",
        "    getR = (mdp.R if hasattr(mdp, 'R') else mdp['R'])\n",
        "    discount = (mdp.discount if hasattr(mdp, 'discount') else mdp['discount'])\n",
        "    U = np.zeros(len(getS))\n",
        "    for t in range(numIterations):\n",
        "        U_old = U.copy()\n",
        "        for s in getS:\n",
        "            a = policy[s]\n",
        "            U[s] = getR[s, a] + discount * np.sum(getT[s, a, :] * U_old)\n",
        "    return U\n"
      ]
    },
    {
      "cell_type": "code",
      "execution_count": 22,
      "metadata": {
        "colab": {
          "base_uri": "https://localhost:8080/",
          "height": 421,
          "referenced_widgets": [
            "96f9d701755f4b148663db7ceaa2176f",
            "d848359e8d274da9bbdf777653fa0f16",
            "6fd696ed5a064975abcda511e3d4a6ba",
            "7967ff0ce4a4455cb16244932018c50e",
            "7dc78b1525e84f899fc6543f41c5fdc3",
            "406043bf53b247eb824bb69a3300ef79",
            "155e307f99a7495f84da6a9a75922bf8",
            "8aefa79cdf82487483c7f2aec4e20079",
            "199affb17c894387818b0298c1091407",
            "e9bc98b0461c4b92aeba20ca474f7420"
          ]
        },
        "id": "XcMijKgbsAv7",
        "outputId": "a091238b-35d7-4597-db31-674b52269b4d"
      },
      "outputs": [
        {
          "output_type": "display_data",
          "data": {
            "text/plain": [
              "interactive(children=(ToggleButtons(description='action', options=('left', 'right', 'up', 'down'), value='left…"
            ],
            "application/vnd.jupyter.widget-view+json": {
              "version_major": 2,
              "version_minor": 0,
              "model_id": "96f9d701755f4b148663db7ceaa2176f"
            }
          },
          "metadata": {}
        }
      ],
      "source": [
        "def f(action, numIter=1):\n",
        "    U = iterativePolicyEvaluation(mdp, policy=mdp.A.index(action), numIterations=numIter)\n",
        "    pl.figure(figsize=(3,3))\n",
        "    mdp.gridPlot(ax=pl.gca(), im=U.reshape(10,10), title='Utility', cmap='jet')\n",
        "    pl.show()\n",
        "\n",
        "interactive_plot = interactive(f, action=widgets.ToggleButtons(options=['left', 'right', 'up', 'down']),\n",
        "                               numIter=widgets.IntSlider(min=0, max=20, step=1, value=0))\n",
        "interactive_plot"
      ]
    },
    {
      "cell_type": "code",
      "execution_count": 23,
      "metadata": {
        "colab": {
          "base_uri": "https://localhost:8080/",
          "height": 282
        },
        "id": "-L8qvyKAsAv9",
        "outputId": "cea19702-6d18-4551-c446-1cc28d47ba49"
      },
      "outputs": [
        {
          "output_type": "display_data",
          "data": {
            "text/plain": [
              "<Figure size 300x300 with 2 Axes>"
            ],
            "image/png": "[encoded data removed]"
          },
          "metadata": {}
        }
      ],
      "source": [
        "#Value iteration\n",
        "def valueIteration(mdp, numIterations=1):\n",
        "    U = np.zeros(len(mdp.S))\n",
        "    U_old = copy.copy(U)\n",
        "    for t in range(numIterations):\n",
        "        f#type your code here\n",
        "    return U\n",
        "\n",
        "def policyExtration(mdp, U):\n",
        "    policy = np.zeros(len(mdp.S))\n",
        "    #type your code here\n",
        "    return policy\n",
        "\n",
        "U = valueIteration(mdp, numIterations=2)\n",
        "policy = policyExtration(mdp, U=U)\n",
        "pl.figure(figsize=(3,3))\n",
        "mdp.gridPlot(ax=pl.gca(), im=U.reshape(10,10), title='Utility', cmap='jet')\n",
        "for s in range(100):\n",
        "    x, y = mdp.s2xy(s)\n",
        "    if policy[s] == 0:\n",
        "        m='\\u02C2'\n",
        "    elif policy[s] == 1:\n",
        "        m='\\u02C3'\n",
        "    elif policy[s] == 2:\n",
        "        m='\\u02C4'\n",
        "    elif policy[s] == 3:\n",
        "        m='\\u02C5'\n",
        "    pl.text(x-0.5,y-1,m,color='k',size=20)\n",
        "pl.show()"
      ]
    },
    {
      "cell_type": "code",
      "execution_count": 24,
      "metadata": {
        "colab": {
          "base_uri": "https://localhost:8080/",
          "height": 331,
          "referenced_widgets": [
            "cf0c963fe69140e093065b5634b3ffa3",
            "0e3649c00f874cfbabe60d9c75f9cb70",
            "56e0878d2d884d7ca46fdb769ae553b3",
            "1d61ca59fda94567a41d169e471e30f3",
            "43c9f044614a48ceaa747ac67164bfcb",
            "e2c0ee83d3f546b68070b25dda5ad5c4",
            "40e5543420e64386a4e45eb62276638b"
          ]
        },
        "id": "W7Hvi7YdsAv_",
        "outputId": "97cca690-ea84-4b29-8585-9b1850622110"
      },
      "outputs": [
        {
          "output_type": "display_data",
          "data": {
            "text/plain": [
              "interactive(children=(IntSlider(value=0, description='numIter', max=20), Output()), _dom_classes=('widget-inte…"
            ],
            "application/vnd.jupyter.widget-view+json": {
              "version_major": 2,
              "version_minor": 0,
              "model_id": "cf0c963fe69140e093065b5634b3ffa3"
            }
          },
          "metadata": {}
        }
      ],
      "source": [
        "def f(numIter=1):\n",
        "    start_time = timeit.default_timer()\n",
        "    U = valueIteration(mdp, numIterations=numIter)\n",
        "    policy = policyExtration(mdp, U=U)\n",
        "    elapsed = timeit.default_timer() - start_time\n",
        "    print('time=', np.round(elapsed*1000,2))\n",
        "    pl.figure(figsize=(3,3))\n",
        "    mdp.gridPlot(ax=pl.gca(), im=U.reshape(10,10), title='Utility', cmap='jet')\n",
        "    for s in range(100):\n",
        "        x, y = mdp.s2xy(s)\n",
        "        if policy[s] == 0:\n",
        "            m='\\u02C2'\n",
        "        elif policy[s] == 1:\n",
        "            m='\\u02C3'\n",
        "        elif policy[s] == 2:\n",
        "            m='\\u02C4'\n",
        "        elif policy[s] == 3:\n",
        "            m='\\u02C5'\n",
        "        pl.text(x-0.5,y-1,m,color='k',size=20)\n",
        "    pl.show()\n",
        "\n",
        "interactive_plot = interactive(f, numIter=widgets.IntSlider(min=0, max=20, step=1, value=0))\n",
        "interactive_plot"
      ]
    },
    {
      "cell_type": "markdown",
      "metadata": {
        "id": "6il1i5CesAwB"
      },
      "source": [
        "### 2. Policy iteration\n",
        "\n",
        "Policy evaluation can be used in policy iteration:\n",
        "1. Given the current policy, compute U\n",
        "2. Using U, compute a new policy"
      ]
    },
    {
      "cell_type": "code",
      "execution_count": 25,
      "metadata": {
        "id": "5VzzQB0jsAwC"
      },
      "outputs": [],
      "source": [
        "def policyIteration(mdp, numIterations=1):\n",
        "    # support both dict-like and object-like mdp\n",
        "    getS = (mdp.S if hasattr(mdp, 'S') else mdp['S'])\n",
        "    getA = (mdp.A if hasattr(mdp, 'A') else mdp['A'])\n",
        "    getT = (mdp.T if hasattr(mdp, 'T') else mdp['T'])\n",
        "    getR = (mdp.R if hasattr(mdp, 'R') else mdp['R'])\n",
        "    discount = (mdp.discount if hasattr(mdp, 'discount') else mdp['discount'])\n",
        "    U_pi_k = np.zeros(len(getS)) #initial values\n",
        "    pi_k = np.random.randint(low=0,high=len(getA),size=len(getS),dtype=int) #initial policy\n",
        "    pi_kp1 = copy.copy(pi_k)\n",
        "    for t in range(numIterations):\n",
        "        #Policy evaluation: compute U_pi_k\n",
        "        U_pi_k = iterativePolicyEvaluation(mdp, pi_k, numIterations=20)\n",
        "        #Policy improvement\n",
        "        for s in getS:\n",
        "            # compute best action under current utility estimate\n",
        "            action_values = []\n",
        "            for a_str in getA: # Iterate through action strings\n",
        "                a = getA.index(a_str) # Get the index of the action string\n",
        "                val = getR[s,a] + discount * np.sum(getT[s,a,:] * U_pi_k)\n",
        "                action_values.append(val)\n",
        "            best_a = int(np.argmax(action_values))\n",
        "            pi_kp1[s] = best_a\n",
        "\n",
        "    return U_pi_k, pi_kp1\n",
        "\n",
        "U_pi_k, pi_kp1 = policyIteration(mdp, numIterations=2)"
      ]
    },
    {
      "cell_type": "code",
      "execution_count": 26,
      "metadata": {
        "colab": {
          "base_uri": "https://localhost:8080/",
          "height": 323,
          "referenced_widgets": [
            "190da51cf00b467c82c65611dfbe0ac7",
            "37fcd9cceadf466c8469cf127133cd1c",
            "98e3c87baba046f390238bac400c6406",
            "7ae478711ced4a6e9ed5df0ff6551e6d",
            "91f3a483613a4088a6cb6734496c6e2f",
            "daa430149c7241f0b3164002ba521547",
            "9e9d60075a334a9a9da1dd8174692d4a"
          ]
        },
        "id": "lSHVZ0CwsAwE",
        "outputId": "96de0888-41a3-45da-9ef9-1bd6454ab784"
      },
      "outputs": [
        {
          "output_type": "display_data",
          "data": {
            "text/plain": [
              "interactive(children=(IntSlider(value=0, description='numIter', max=20), Output()), _dom_classes=('widget-inte…"
            ],
            "application/vnd.jupyter.widget-view+json": {
              "version_major": 2,
              "version_minor": 0,
              "model_id": "190da51cf00b467c82c65611dfbe0ac7"
            }
          },
          "metadata": {}
        }
      ],
      "source": [
        "def f(numIter=1):\n",
        "    start_time = timeit.default_timer()\n",
        "    # code you want to evaluate\n",
        "    value, policy = policyIteration(mdp, numIterations=numIter)\n",
        "    elapsed = timeit.default_timer() - start_time\n",
        "    print('time=', np.round(elapsed*1000,2))\n",
        "    pl.figure(figsize=(3,3))\n",
        "    mdp.gridPlot(ax=pl.gca(), im=value.reshape(10,10), title='Utility', cmap='jet')\n",
        "    for s in range(100):\n",
        "        x, y = mdp.s2xy(s)\n",
        "        if policy[s] == 0:\n",
        "            m='\\u02C2'\n",
        "        elif policy[s] == 1:\n",
        "            m='\\u02C3'\n",
        "        elif policy[s] == 2:\n",
        "            m='\\u02C4'\n",
        "        elif policy[s] == 3:\n",
        "            m='\\u02C5'\n",
        "        pl.text(x-0.5,y-1,m,color='k',size=20)\n",
        "    pl.show()\n",
        "\n",
        "interactive_plot = interactive(f, numIter=widgets.IntSlider(min=0, max=20, step=1, value=0))\n",
        "interactive_plot"
      ]
    },
    {
      "cell_type": "code",
      "execution_count": 27,
      "metadata": {
        "id": "JmmurWs0G5si"
      },
      "outputs": [],
      "source": [
        "import time\n",
        "import numpy as np\n",
        "\n",
        "def q_learning_mdp(mdp, episodes=2000, alpha=0.1, gamma=None, epsilon=0.1,\n",
        "                   fallback_to_self=True, max_steps_per_episode=50):\n",
        "    \"\"\"\n",
        "    Robust Q-learning on an MDP represented by mdp dict (keys: 'S','A','T','R','discount',...).\n",
        "    - fallback_to_self=True: if T[s,a,:] sums to 0, we treat next state as s (no transition).\n",
        "      If False, we sample uniformly among states as a fallback.\n",
        "    - max_steps_per_episode: number of steps to run inside one episode (keeps episodes bounded).\n",
        "    Returns: U_est, Q, rewards, diagnostics\n",
        "    \"\"\"\n",
        "    if gamma is None:\n",
        "        gamma = mdp['discount']\n",
        "    nS = len(mdp['S'])\n",
        "    nA = len(mdp['A'])\n",
        "    Q = np.zeros((nS, nA))\n",
        "    rewards = []\n",
        "    fallback_count = 0\n",
        "\n",
        "    for ep in range(episodes):\n",
        "        # start state random (choose an index from S)\n",
        "        s = np.random.choice(mdp['S'])\n",
        "        cum = 0\n",
        "        for step in range(max_steps_per_episode):\n",
        "            # epsilon-greedy: pick action index\n",
        "            if np.random.rand() < epsilon:\n",
        "                a_idx = np.random.randint(0, nA)\n",
        "            else:\n",
        "                # tie-breaking randomly if multiple maxima\n",
        "                max_q = Q[s].max()\n",
        "                bests = np.where(Q[s] == max_q)[0]\n",
        "                a_idx = np.random.choice(bests)\n",
        "\n",
        "            # get transition probs for (s, a_idx)\n",
        "            probs = mdp['T'][s, a_idx, :].astype(float).copy()\n",
        "\n",
        "            total = probs.sum()\n",
        "            if total == 0 or not np.isfinite(total):\n",
        "                # fallback: either stay in same state or sample uniformly\n",
        "                fallback_count += 1\n",
        "                if fallback_to_self:\n",
        "                    next_s = s\n",
        "                else:\n",
        "                    # uniform sample across all states\n",
        "                    next_s = np.random.randint(0, nS)\n",
        "            else:\n",
        "                # normalize (defensive)\n",
        "                probs = probs / total\n",
        "                # Remove tiny negative rounding errors, clip to [0,1]\n",
        "                probs = np.clip(probs, 0.0, 1.0)\n",
        "                # normalize again to ensure sums to 1 after clipping\n",
        "                probs = probs / probs.sum()\n",
        "                next_s = np.random.choice(nS, p=probs)\n",
        "\n",
        "            r = mdp['R'][s, a_idx]\n",
        "            # Q-learning update\n",
        "            Q[s, a_idx] = Q[s, a_idx] + alpha * (r + gamma * np.max(Q[next_s]) - Q[s, a_idx])\n",
        "\n",
        "            cum += r\n",
        "            s = next_s\n",
        "\n",
        "        rewards.append(cum)\n",
        "\n",
        "    # derive utility estimate from Q\n",
        "    U_est = np.max(Q, axis=1)\n",
        "    diagnostics = {'fallback_count': fallback_count, 'episodes': episodes}\n",
        "    return U_est, Q, rewards, diagnostics"
      ]
    }
  ],
  "metadata": {
    "@webio": {
      "lastCommId": "21E8675012EB469B8DD225E5191E1594",
      "lastKernelId": "ec90fbfa-47cf-4656-a1ce-4ca4670e6701"
    },
    "colab": {
      "provenance": [],
      "include_colab_link": true
    },
    "kernelspec": {
      "display_name": "Python 3",
      "language": "python",
      "name": "python3"
    },
    "language_info": {
      "codemirror_mode": {
        "name": "ipython",
        "version": 3
      },
      "file_extension": ".py",
      "mimetype": "text/x-python",
      "name": "python",
      "nbconvert_exporter": "python",
      "pygments_lexer": "ipython3",
      "version": "3.8.8"
    },
    "widgets": {
      "application/vnd.jupyter.widget-state+json": {
        "d243b398b4684519a72d7ec388a6434a": {
          "model_module": "@jupyter-widgets/controls",
          "model_name": "VBoxModel",
          "model_module_version": "1.5.0",
          "state": {
            "_dom_classes": [
              "widget-interact"
            ],
            "_model_module": "@jupyter-widgets/controls",
            "_model_module_version": "1.5.0",
            "_model_name": "VBoxModel",
            "_view_count": null,
            "_view_module": "@jupyter-widgets/controls",
            "_view_module_version": "1.5.0",
            "_view_name": "VBoxView",
            "box_style": "",
            "children": [
              "IPY_MODEL_a280f2e8592e4d1d9ed7211dfe1bb0d0",
              "IPY_MODEL_a08bb7c96d2245489a56d6fee38c5edb",
              "IPY_MODEL_d65234647ee843b587cb905e3f7becd4",
              "IPY_MODEL_027f18777d7043799c470d9a6047dfda"
            ],
            "layout": "IPY_MODEL_080bf8585e1648c08ee84d3a3d39be1e"
          }
        },
        "a280f2e8592e4d1d9ed7211dfe1bb0d0": {
          "model_module": "@jupyter-widgets/controls",
          "model_name": "TextModel",
          "model_module_version": "1.5.0",
          "state": {
            "_dom_classes": [],
            "_model_module": "@jupyter-widgets/controls",
            "_model_module_version": "1.5.0",
            "_model_name": "TextModel",
            "_view_count": null,
            "_view_module": "@jupyter-widgets/controls",
            "_view_module_version": "1.5.0",
            "_view_name": "TextView",
            "continuous_update": true,
            "description": "s0_x",
            "description_tooltip": null,
            "disabled": false,
            "layout": "IPY_MODEL_6ae88598608d4450bacded27563a2b66",
            "placeholder": "​",
            "style": "IPY_MODEL_e2d329d179ea4d4797f94dba95ad5c19",
            "value": "4"
          }
        },
        "a08bb7c96d2245489a56d6fee38c5edb": {
          "model_module": "@jupyter-widgets/controls",
          "model_name": "TextModel",
          "model_module_version": "1.5.0",
          "state": {
            "_dom_classes": [],
            "_model_module": "@jupyter-widgets/controls",
            "_model_module_version": "1.5.0",
            "_model_name": "TextModel",
            "_view_count": null,
            "_view_module": "@jupyter-widgets/controls",
            "_view_module_version": "1.5.0",
            "_view_name": "TextView",
            "continuous_update": true,
            "description": "s0_y",
            "description_tooltip": null,
            "disabled": false,
            "layout": "IPY_MODEL_237ad7b057ed49589e7c1d6f781d367e",
            "placeholder": "​",
            "style": "IPY_MODEL_9a6af3297d404023bc4fc38777e7c31f",
            "value": "5"
          }
        },
        "d65234647ee843b587cb905e3f7becd4": {
          "model_module": "@jupyter-widgets/controls",
          "model_name": "ToggleButtonsModel",
          "model_module_version": "1.5.0",
          "state": {
            "_dom_classes": [],
            "_model_module": "@jupyter-widgets/controls",
            "_model_module_version": "1.5.0",
            "_model_name": "ToggleButtonsModel",
            "_options_labels": [
              "left",
              "right",
              "up",
              "down"
            ],
            "_view_count": null,
            "_view_module": "@jupyter-widgets/controls",
            "_view_module_version": "1.5.0",
            "_view_name": "ToggleButtonsView",
            "button_style": "",
            "description": "action",
            "description_tooltip": null,
            "disabled": false,
            "icons": [],
            "index": 0,
            "layout": "IPY_MODEL_d1241acc0de24eebafb6ca491a9a8711",
            "style": "IPY_MODEL_873c5d7d7218429483f6714585ba3a01",
            "tooltips": []
          }
        },
        "027f18777d7043799c470d9a6047dfda": {
          "model_module": "@jupyter-widgets/output",
          "model_name": "OutputModel",
          "model_module_version": "1.0.0",
          "state": {
            "_dom_classes": [],
            "_model_module": "@jupyter-widgets/output",
            "_model_module_version": "1.0.0",
            "_model_name": "OutputModel",
            "_view_count": null,
            "_view_module": "@jupyter-widgets/output",
            "_view_module_version": "1.0.0",
            "_view_name": "OutputView",
            "layout": "IPY_MODEL_9525c34513974a1595b537b8d0c6419f",
            "msg_id": "",
            "outputs": [
              {
                "output_type": "display_data",
                "data": {
                  "text/plain": "<Figure size 600x600 with 2 Axes>",
                  "image/png": "iVBORw0KGgoAAAANSUhEUgAAAegAAAHwCAYAAABt1fz6AAAAOnRFWHRTb2Z0d2FyZQBNYXRwbG90bGliIHZlcnNpb24zLjEwLjAsIGh0dHBzOi8vbWF0cGxvdGxpYi5vcmcvlHJYcgAAAAlwSFlzAAAPYQAAD2EBqD+naQAAUf9JREFUeJzt3XtcVHX+P/DXDDozCIIX5BqClxTvGAjhvSLNNVdr18xsJSy/rY6p8cuUTcFLipYabU6g5i3NpItaayUpqa1JqRilbl7zgiagpjOKOSPD+f1hjI4McAZnmA/O69njPIzjmfN5zTDOZ96fcz7nKCRJkkBERERCUbo6ABEREVXEDpqIiEhA7KCJiIgExA6aiIhIQOygiYiIBMQOmoiISEDsoImIiATEDpqIiEhA7KCJiIgExA6aiIhIQOygiYiIZNDpdAgPD4dGo0FsbCx2795d6bZ9+/aFQqGosAwcOFB2e+ygiYiIqpGVlYWkpCSkpqZi37596NKlC/r374/i4mKb269fvx7nzp2zLAcOHICHhweGDh0qu00Fb5ZBRERUtdjYWHTr1g2LFi0CAJSVlSE0NBQvvfQSpkyZUu3j09PTkZKSgnPnzsHLy0tWm6ygiYjI7RiNRhgMBqvFaDTa3NZkMiEvLw/x8fGWdUqlEvHx8cjNzZXV3rJly/D000/L7pwBoJ7sLYmIiGrR9evXYTKZnLLvN954A7Nnz7Zal5qaiunTp1fY9sKFCzCbzQgICLBaHxAQgEOHDlXb1u7du3HgwAEsW7bMrozsoImISDjXr1+HZ8OmQOk1p+w/MDAQRUVF0Gg0lnVqtdopbS1btgydOnVCTEyMXY9jB01ERMIxmUxA6TWoOyQCHirH7txsQuHBFdBoNPDx8al2cz8/P3h4eKCoqMhqfVFREQIDA6t8bElJCdatW4eZM2faHZPHoImISFweKigcvNjb4atUKkRFRSEnJ8eyrqysDDk5OYiLi6vysR9//DGMRiOeffZZu586K2giIhKXAoBC4fh92ikpKQkJCQmIjo5GTEwM0tPTUVJSgsTERADAyJEjERISgrS0NKvHLVu2DEOGDEHTpk3tbpMdNBERUTWGDRuG8+fPIyUlBYWFhYiMjMTmzZstJ46dPn0aSqX1oPThw4exc+dOfP311zVqk/OgiYhIOAaDAb6+vlBHjoHCw7Enb0lmI4z5GdDr9bKOQbsKj0ETEREJiEPcREQkLoXCCcegHbw/J2EFTUREJCBW0EREJC6F8ubi6H3WAeygiYhIXBziJiIiIpGwgiYiIoE5YYi7jtSmdSMlERGRm2EFTURE4uIxaCIiIhIJK2giIhKXG0+zqhspiYiI3AwraCIiEpcbH4NmB01EROLiEDcRERGJhBU0ERGJy42HuFlB22HlypVQKBQ4efJktdtu374dCoUC27dvd3ouV+rbty86duzosP2dPHkSCoUC8+fPr3bb6dOnQ3HHP7Tw8HA899xzlp/t+T2Ut71y5Uo7U9eegoICaDQafPfdd05ro2/fvlavoWjGjh2LRx991CVtP/jgg3j11Vdd0rYtd77f7XH16lW88MILCAwMhEKhwMSJEyvd9saNGwgNDcW7775bs6BUIy7roBUKhaxF9A7u3XffFfoDnSpau3Yt0tPTXR0D4eHhsv4N3P7+mjlzJmJjY9GjRw+72vr666/x/PPPo2PHjvDw8EB4eLhjn8yfdu3ahZ49e6JBgwYIDAzE+PHjcfXqVYft/8SJE3jvvffwr3/9q9Jtdu7caXntLly4UO0+y7+Y2VrWrVtnte3kyZOh0+lQWFh418/F1ebMmYOVK1dizJgxWL16Nf7xj39g165dmD59Oi5fvmy1bf369ZGUlITZs2fj+vXrtRu0/Bi0o5c6wGVD3KtXr7b6+f3338eWLVsqrG/Xrl1txqrSP/7xDzz99NNQq9WWde+++y78/PwqfIvt3bs3/vjjD6hUqlpO6T6mTp2KKVOmVLmNrd/D2rVrceDAgQoVQ1hYGP744w/Ur1/fGXErSE9Pt+q8vvzyS3z44Yd466234OfnZ1nfvXt3AMD58+exatUqrFq1yu621q5di6ysLDzwwAMIDg6++/A25Ofn45FHHkG7du2wcOFCnDlzBvPnz8fRo0fx1VdfOaSNt99+Gy1atMBDDz1k8+/Lysrw0ksvwcvLCyUlJXbte/jw4fjLX/5itS4uLs7q58GDB8PHxwfvvvsuZs6caV94wXzzzTd48MEHkZqaalk3f/58zJgxA8899xwaNWpktX1iYiKmTJmCtWvXYtSoUbWc1j25rIN+9tlnrX7+/vvvsWXLlgrr73Tt2jU0aNDAmdEq5eHhAQ8PD1nbKpVKaDQaJydyvJKSEnh5ebk6hiz16tVDvXpVv4Xt+T0oFIpa/Z0NGTLE6ufCwkJ8+OGHGDJkiM0Kd82aNahXrx4GDRpkd1tz5szB0qVLUb9+fTz++OM4cOBADVNX7l//+hcaN26M7du3w8fHB8DNUYLRo0fj66+/Rr9+/e5q/zdu3MAHH3yAf/7zn5Vus2TJEhQUFOCFF17A22+/bdf+H3jggWo/f5RKJf7+97/j/fffx4wZMyocYqlLiouL0b59e9nbN2rUCP369cPKlStrt4NWKJxwFnfd+L0JXeeXH9/My8tD79690aBBA8vQ1meffYaBAwciODgYarUarVq1wqxZs2A2m23u43//+x8eeughNGjQACEhIXjjjTcqtPfOO++gQ4cOaNCgARo3bozo6GisXbvW8vd3HoMODw/HwYMHsWPHDsuQWN++fQFUfuzz448/RlRUFDw9PeHn54dnn30WZ8+etdrmueeeg7e3N86ePYshQ4bA29sbzZo1wyuvvFLh+dkSHh6Oxx9/HF9//TUiIyOh0WjQvn17rF+/3mq78uezY8cOjB07Fv7+/rjvvvssf//uu++iQ4cOUKvVCA4OhlarrTD0VS4vLw/du3eHp6cnWrRogczMTKu/N5lMSElJQVRUFHx9feHl5YVevXph27ZtlT6Pt956C2FhYfD09ESfPn0qdCq2jkHf6c7fQ9++ffHFF1/g1KlTlt9ZeWdY2THoQ4cO4e9//zuaNGkCjUaD6OhofP7551bb3LhxAzNmzMD9998PjUaDpk2bomfPntiyZUuV+eyxceNGxMbGwtvb22r90aNH8be//Q2BgYHQaDS477778PTTT0Ov11u2CQ4OvquRgeraMBgMli/Y5Z0zAIwcORLe3t746KOPatx2uZ07d+LChQuIj4+3+fe///47pk6dipkzZ1ao/uQqKSmByWSqcptHH30Up06dQn5+frX7W7FiBR5++GH4+/tDrVajffv2yMjIqFE2uS5fvoyJEyciNDQUarUarVu3xrx581BWVgbg1r+JEydO4IsvvrD8O3juuecwadIkAECLFi0s628/5+bRRx/Fzp078fvvvzv1OdBNwp/FffHiRQwYMABPP/00nn32WQQEBAC42bl4e3sjKSkJ3t7e+Oabb5CSkgKDwYA333zTah+XLl3CY489hieffBJPPfUUPvnkE0yePBmdOnXCgAEDAABLly7F+PHj8fe//x0TJkzA9evX8fPPP+OHH37AM888YzNbeno6XnrpJXh7e+O1114DAEs+W1auXInExER069YNaWlpKCoqwttvv43vvvsOP/74o9WHitlsRv/+/REbG4v58+dj69atWLBgAVq1aoUxY8ZU+7odPXoUw4YNwz//+U8kJCRgxYoVGDp0KDZv3lzhBJuxY8eiWbNmSElJsQwLTp8+HTNmzEB8fDzGjBmDw4cPIyMjA3v27MF3331n9WF/6dIl/OUvf8FTTz2F4cOH46OPPsKYMWOgUqks37QNBgPee+89DB8+HKNHj8aVK1ewbNky9O/fH7t370ZkZKRVpvfffx9XrlyBVqvF9evX8fbbb+Phhx/G/v37q3yNq/Paa69Br9fjzJkzeOuttwCgQod3u4MHD6JHjx4ICQnBlClT4OXlhY8++ghDhgzBp59+iieeeMLyeqWlpeGFF15ATEwMDAYD9u7di3379jnkhKYbN25gz549FX73JpMJ/fv3h9FoxEsvvYTAwECcPXsWmzZtwuXLl+Hr63vXbctpY//+/SgtLUV0dLTVY1UqFSIjI/Hjjz9aPZfbvzxUpUmTJlAqb9YRu3btgkKhQNeuXW1uO23aNAQGBuLFF1/ErFmz7H6eM2bMwKRJk6BQKBAVFYXZs2fbrPqjoqIAAN99912lWcplZGSgQ4cO+Otf/4p69erhP//5D8aOHYuysjJotVrLdlevXpV1bLd+/fpV/k6vXbuGPn364OzZs3jxxRfRvHlz7Nq1C8nJyTh37hzS09PRrl07rF69Gi+//DLuu+8+/L//9/8AAJ06dYLJZKpwmKVZs2ZWz12SJOzatQuPP/54tXkdQqm4uTh6n3WBJAitVivdGadPnz4SACkzM7PC9teuXauw7sUXX5QaNGggXb9+vcI+3n//fcs6o9EoBQYGSn/7298s6wYPHix16NChyowrVqyQAEgnTpywrOvQoYPUp0+fCttu27ZNAiBt27ZNkiRJMplMkr+/v9SxY0fpjz/+sGy3adMmCYCUkpJiWZeQkCABkGbOnGm1z65du0pRUVFVZpQkSQoLC5MASJ9++qllnV6vl4KCgqSuXbtWeD49e/aUSktLLeuLi4sllUol9evXTzKbzZb1ixYtkgBIy5cvt6wrf30XLFhgWWc0GqXIyEjJ399fMplMkiRJUmlpqWQ0Gq1yXrp0SQoICJBGjRplWXfixAkJgOTp6SmdOXPGsv6HH36QAEgvv/yyZV1qamqF90xYWJiUkJBg+fnO34MkSdLAgQOlsLCwCq9bedsrVqywrHvkkUekTp06Wb2nysrKpO7du0v333+/ZV2XLl2kgQMHVtinPd58880K769yx44dkwBI77zzjtX6H3/8UQIgffzxx7Lbqez5l+vTp4/VayinjY8//lgCIH377bcV/m7o0KFSYGCg5efy34mc5fbX4tlnn5WaNm1qs/2ffvpJ8vDwkLKzsyVJuvXeOH/+fKWZy506dUrq16+flJGRIX3++edSenq61Lx5c0mpVEqbNm2y+RiVSiWNGTOm2n3b+pzq37+/1LJlS6t15f/mq1vu/Ky58/0+a9YsycvLSzpy5IjVdlOmTJE8PDyk06dPWz32zvdsVe9BSZKk3377TQIgzZs3r9rnfrf0er0EQFL3mippHnrdoYu611QJgKTX653+PO6G0EPcAKBWq5GYmFhhvaenp+X/r1y5ggsXLqBXr164du0aDh06ZLWtt7e31bEllUqFmJgY/Prrr5Z1jRo1wpkzZ7Bnzx4nPAtg7969KC4uxtixY62Ocw4cOBARERH44osvKjzmzmNtvXr1sspcleDgYEt1BwA+Pj4YOXIkfvzxxwpnoI4ePdrq2PrWrVthMpkwceJES/VSvp2Pj0+FrPXq1cOLL75o+VmlUuHFF19EcXEx8vLyANw8fl9+olZZWRl+//13S8W1b9++CvmHDBmCkJAQy88xMTGIjY3Fl19+Kev5O8Lvv/+Ob775Bk899ZTlPXbhwgVcvHgR/fv3x9GjRy2HJxo1aoSDBw/i6NGjTsly8eJFAEDjxo2t1pdXU9nZ2bh27ZpT2pbTxh9//AEAVidQltNoNJa/B4AuXbpgy5YtspbAwEDL4y5evFjh+ZcbP348BgwYUKPj3M2bN0d2djb++c9/YtCgQZgwYQJ+/PFHNGvWzFJd3qlx48ayzhC//XNKr9fjwoUL6NOnD3799VerUYRXX31V1uuxYMGCKtv7+OOP0atXL0u+8iU+Ph5msxnffvutzFfFtvLXX85zp7sn/BB3SEiIzTOhDx48iKlTp+Kbb76BwWCw+rs7h8/uu+++CscqGzdujJ9//tny8+TJk7F161bExMSgdevW6NevH5555hm7p7NU5tSpUwCAtm3bVvi7iIgI7Ny502qdRqOxGloqz3zp0iVZ7bVu3brCc27Tpg2Am8dab//ga9GihaysKpUKLVu2tPx9ueDg4Aonlt3e1oMPPggAWLVqFRYsWIBDhw7hxo0blbYPAPfff3+FdW3atHHIsUy5jh07BkmSMG3aNEybNs3mNsXFxQgJCcHMmTMxePBgtGnTBh07dsRjjz2Gf/zjH+jcubNDM0mSZPVzixYtkJSUhIULF+KDDz5Ar1698Ne//hXPPvusQ4a35bZR3hEZjcYKj79+/bpVR9W4ceNKjyNX587nDwBZWVnYtWuXQ098a9KkCRITEzF37lycOXPG6tyM8hxyThD77rvvkJqaitzc3ApfbvR6veX1a9++vV0nbFXm6NGj+Pnnnyt8dpQrLi6+q/2Xv/61enKcG1+oRPgO+vZ/2OUuX76MPn36wMfHBzNnzkSrVq2g0Wiwb98+TJ482XIyRLnKzry+/R97u3btcPjwYWzatAmbN2/Gp59+infffRcpKSmYMWOGY5+UDHLPFncEW6+xo61ZswbPPfcchgwZgkmTJsHf3x8eHh5IS0vD8ePHnd5+TZS/j1555RX079/f5jatW7cGcHM61/Hjx/HZZ5/h66+/xnvvvYe33noLmZmZeOGFF+46S9OmTQHA5he0BQsW4LnnnrO0PX78eKSlpeH777+v0LHUVHVtBAUFAQDOnTtX4bHnzp2zmtplMplkn2TUrFkzy7+Fpk2b2nz+kyZNwtChQ6FSqSwnNJWfzFhQUACTyVSjqWWhoaEAbo6k3Pk6Xr582WoqnC3Hjx/HI488goiICCxcuBChoaFQqVT48ssv8dZbb1l9Tun1eqtRhsqoVCo0adKk0r8vKyvDo48+WunFVMq/ONdU+etf3XMnxxC+g7Zl+/btuHjxItavX4/evXtb1p84ceKu9uvl5YVhw4Zh2LBhMJlMePLJJzF79mwkJydXOv1G7jfJsLAwAMDhw4fx8MMPW/3d4cOHLX/vKOXV3+35jhw5AgDVXqTi9qwtW7a0rDeZTDhx4kSF6ue3336rMD3rzrY++eQTtGzZEuvXr7fKdPsczNvZGio+cuSIQy6wIfd3Vv7c69evL6viK6+6EhMTcfXqVfTu3RvTp093SAfdvHlzeHp6Vvoe79SpEzp16oSpU6di165d6NGjBzIzM/H666/fddty2ujYsSPq1auHvXv34qmnnrI8xmQyIT8/32rdrl27Kp3HfKcTJ05YfucRERH44IMPrCpP4GYnvHbtWqsZF+UeeOABdOnSRdYZ13cqP5x0ZzV69uxZmEymaq/R8J///AdGoxGff/45mjdvbllva+bChAkTZM1v79OnT5UXb2rVqhWuXr1a4xGK6v5tlL//avX6FG58s4w62UGXf6O+vQI2mUx3dRm6ixcvWqoU4OY31fbt2+Orr77CjRs3Ku2gvby8Kp16dLvo6Gj4+/sjMzMTo0aNshyr++qrr/DLL78gJSWlxtlt+e2337BhwwY8+eSTAG6eRf3+++8jMjLSanjblvj4eKhUKvz73//GY489ZvlHu2zZMuj1egwcONBq+9LSUixevBhJSUkAbv4uFi9ejGbNmlnOeL39d1a+vx9++AG5ublWH17lNm7ciLNnz1qOQ+/evRs//PBDlZcjlMvLy0vWWcT+/v7o27cvFi9ejJdeeslSJZY7f/685cP7zvePt7c3WrdujYKCgrvOC9z8khAdHY29e/darTcYDGjQoIHVfPBOnTpBqVTaHG6uCTlt+Pr6Ij4+HmvWrMG0adPQsGFDADcvSHT16lUMHTrU8tjyY9By3P5ejYuLgyRJyMvLs/qSu2HDhgqPW7duHbKysvD+++9XO4pw+++x3NmzZ7F8+XJ07ty5wu+9/LyK8gvIVMbW55Rer8eKFSsqbPvqq69WOwcbqHgOwp2eeuopTJ8+HdnZ2RVGfS5fvgxvb+8qrx1Q/iW7qumUCoWiwgVcyDnqZAfdvXt3NG7cGAkJCRg/fjwUCgVWr15t8/iUXP369UNgYCB69OiBgIAA/PLLL1i0aBEGDhxo+bCxJSoqChkZGXj99dfRunVr+Pv7V6iQgZsfsPPmzUNiYiL69OmD4cOHW6ZZhYeH4+WXX65xdlvatGmD559/Hnv27EFAQACWL1+OoqIimx8Od2rWrBmSk5MxY8YMPPbYY/jrX/+Kw4cP491330W3bt0qfJAEBwdj3rx5OHnyJNq0aYOsrCzk5+djyZIllulYjz/+ONavX48nnngCAwcOxIkTJ5CZmYn27dvbvBRk69at0bNnT4wZMwZGoxHp6elo2rSpQ66DHBUVhaysLCQlJaFbt27w9vau9OIfOp0OPXv2RKdOnTB69Gi0bNkSRUVFyM3NxZkzZ/DTTz8BuHkMsW/fvoiKikKTJk2wd+9efPLJJxg3btxd5y03ePBgvPbaazAYDJa5xt988w3GjRuHoUOHok2bNigtLcXq1avh4eGBv/3tb5bH/vzzz5a528eOHYNer7dU1126dKny4idy25g9eza6d++OPn364P/+7/9w5swZLFiwAP369cNjjz1m2a6mx6B79uyJpk2bYuvWrVb/xu684AsAS8U8YMAAq+HY7du346GHHkJqaiqmT58O4GbnWD4cHRwcjJMnT2Lx4sUoKSmxebGTLVu2oHnz5hWmWN0+nx64+ZmiUqkwaNAgvPjii7h69SqWLl0Kf3//CocCHHUMetKkSfj888/x+OOP47nnnkNUVBRKSkqwf/9+fPLJJzh58mSVw9PlX6hfe+01PP3006hfvz4GDRpk6bi3bNmCHj16WH0ZdTo3PgYt/DSryqY+fffdd9KDDz4oeXp6SsHBwdKrr74qZWdnV5hSU9k+EhISrKaaLF68WOrdu7fUtGlTSa1WS61atZImTZpkdRq+rWlWhYWF0sCBA6WGDRtaTYOwNb1HkiQpKytL6tq1q6RWq6UmTZpII0aMsJpOVJ7Ny8urQmZb04psKZ8+kZ2dLXXu3FlSq9VSREREhWky5c9nz549NvezaNEiKSIiQqpfv74UEBAgjRkzRrp06ZLVNuWv7969e6W4uDhJo9FIYWFh0qJFi6y2Kysrk+bMmSOFhYVJarVa6tq1q7Rp06YKv4fyqU5vvvmmtGDBAik0NFRSq9VSr169pJ9++qna10PONKurV69KzzzzjNSoUSMJgKV9W9OsJEmSjh8/Lo0cOVIKDAyU6tevL4WEhEiPP/649Mknn1i2ef3116WYmBipUaNGkqenpxQRESHNnj3bMs1MjuqmuBQVFUn16tWTVq9ebVn366+/SqNGjZJatWolaTQaqUmTJtJDDz0kbd261eqx5b9rW8vtr5ckVZxmJbcNSZKk//73v1L37t0ljUYjNWvWTNJqtZLBYJD9GlRn/PjxUuvWravdrrJpVv/5z38qTN1cu3at1Lt3b6lZs2ZSvXr1JD8/P+mJJ56Q8vLyKuzXbDZLQUFB0tSpUyv8nZ+fn/Tggw9arfv888+lzp07SxqNRgoPD5fmzZsnLV++vMrfsz3ufL9LkiRduXJFSk5Ollq3bi2pVCrJz89P6t69uzR//nyr96OtaVaSdHOqVkhIiKRUKq1yXr58WVKpVNJ7771317nlsEyz6jtd0sTPdeii7ju9TkyzUkjSXZSdJKTw8HB07NgRmzZtcnUUcrDnn38eR44cwX//+1+ntdG3b1+Eh4cLeROYX3/9FREREfjqq6/wyCOP2P34V199FR9++CGOHTtmc0pYdTZu3IhnnnkGx48ftxr6/t///ocOHTpg06ZNFQ4B3SvS09Pxxhtv4Pjx47VyYqnBYICvry/UD82Eop5jL8ErlV6HcVsK9Hq91ZXvRFM3jpQTEYCbJ9WVX83NHbVs2RLPP/885s6dW6PHb9u2DdOmTatR5wwA8+bNw7hx4yocl962bRvi4uLu2c75xo0bWLhwIaZOnVornbOV8iFuRy91QJ08Bk3krpo3b177t/sTzN1cy/puL0SUm5trc71Wq7W6dOe9pn79+jh9+rSrY7gddtBERCQuTrOie8ntd58hsldV82yJqPawgyYiInG58TSrulHnExERuZlar6DLysrw22+/oWHDhrV7wXUiInIoSZJw5coVBAcHW935zrGccAy6jtSmtdZB63Q66HQ6mEwmYW+OQERE9isoKHDYjVnollrroMunIej1ejRq1Ai/niiAtyATxBUAVPUAU+nNSyuJgJnkETETIGYuZpKHmeS7ajCgZYvQKi+HfNfc+Bh0rQ9xlw9re/v4oKFAHbS6HmAU6M3PTPKImAkQMxczycNM9nPq4UqFwgnTrOpGB103BuKJiIjcDKdZERGRuNz4QiV1IyUREZGbYQVNRETicuOTxFhBExERCYgVNBERiYvHoImIiEgkrKCJiEhcbnwMmh00ERGJi0PcREREJBJW0EREJC43HuJmBU1ERCQguzvoK1euYOLEiQgLC4Onpye6d++OPXv2OCMbERG5OYVC4ZSlLrC7g37hhRewZcsWrF69Gvv370e/fv0QHx+Ps2fPOiMfERGRW7Krg/7jjz/w6aef4o033kDv3r3RunVrTJ8+Ha1bt0ZGRoazMhIRkZsSqYLW6XQIDw+HRqNBbGwsdu/eXeX2ly9fhlarRVBQENRqNdq0aYMvv/xSdnt2nSRWWloKs9kMjUZjtd7T0xM7d+60+Rij0Qij0Wj52WAw2NMkERGRy2VlZSEpKQmZmZmIjY1Feno6+vfvj8OHD8Pf37/C9iaTCY8++ij8/f3xySefICQkBKdOnUKjRo1kt2lXBd2wYUPExcVh1qxZ+O2332A2m7FmzRrk5ubi3LlzNh+TlpYGX19fyxIaGmpPk0RE5M4UTlrstHDhQowePRqJiYlo3749MjMz0aBBAyxfvtzm9suXL8fvv/+OjRs3okePHggPD0efPn3QpUsX2W3afQx69erVkCQJISEhUKvV+Pe//43hw4dDqbS9q+TkZOj1estSUFBgb5NEROSmnDnEbTAYrJbbR3tvZzKZkJeXh/j4eMs6pVKJ+Ph45Obm2nzM559/jri4OGi1WgQEBKBjx46YM2cOzGaz7OdudwfdqlUr7NixA1evXkVBQQF2796NGzduoGXLlja3V6vV8PHxsVqIiIhcLTQ01GqENy0tzeZ2Fy5cgNlsRkBAgNX6gIAAFBYW2nzMr7/+ik8++QRmsxlffvklpk2bhgULFuD111+Xna/GFyrx8vKCl5cXLl26hOzsbLzxxhs13RUREZFNTpkW9ef+CgoKrIpGtVrtsCbKysrg7++PJUuWwMPDA1FRUTh79izefPNNpKamytqH3R10dnY2JElC27ZtcezYMUyaNAkRERFITEy0+wkQERG5itxRXT8/P3h4eKCoqMhqfVFREQIDA20+JigoCPXr14eHh4dlXbt27VBYWAiTyQSVSlVtu3YPcev1emi1WkRERGDkyJHo2bMnsrOzUb9+fXt3RUREVCURplmpVCpERUUhJyfHsq6srAw5OTmIi4uz+ZgePXrg2LFjKCsrs6w7cuQIgoKCZHXOQA066KeeegrHjx+H0WjEuXPnsGjRIvj6+tq7GyIiojojKSkJS5cuxapVq/DLL79gzJgxKCkpsYwejxw5EsnJyZbtx4wZg99//x0TJkzAkSNH8MUXX2DOnDnQarWy2+TNMoiISFjOPAZtj2HDhuH8+fNISUlBYWEhIiMjsXnzZsuJY6dPn7aazRQaGors7Gy8/PLL6Ny5M0JCQjBhwgRMnjxZdpvsoImIiGQYN24cxo0bZ/Pvtm/fXmFdXFwcvv/++xq3xw6aiIjEVcMLi1S7zzqAHTQREQlLlCFuV+D9oImIiATECpqIiISlUMAJFbRjd+csrKCJiIgExAqaiIiEpYATjkHXkRKaFTQREZGAWEETEZGweBY3ERERCcVlFbQz5p7XlOKOP0XATPKImAkQMxczycNM8tVKHl6oxPl0Oh10Oh3MZjMAQFUPUAs2wK4SLA/ATHKJmAkQMxczycNM1TMKludeU2svr1arhVarhcFggK+vL0ylgLG0tlqvmgI33/imUkBydZg/MZM8ImYCxMzFTPIwk3ym2vgMd8IxaKmOHIN22fcfCWK90QBmkouZ5BMxFzPJw0zVq40szjhJzPHTtpyDJ4kREREJiEcQiIhIWKygiYiISCisoImISFxuPM2KFTQREZGAWEETEZGweAyaiIiIhMIKmoiIhOXOFTQ7aCIiEpY7d9Ac4iYiIhIQK2giIhIWK2iZzGYzpk2bhhYtWsDT0xOtWrXCrFmzIEkiXR2WiIio7rOrgp43bx4yMjKwatUqdOjQAXv37kViYiJ8fX0xfvx4Z2UkIiJ35cYXKrGrg961axcGDx6MgQMHAgDCw8Px4YcfYvfu3U4JR0RE5K7sGuLu3r07cnJycOTIEQDATz/9hJ07d2LAgAGVPsZoNMJgMFgtREREcpQfg3b0UhfYVUFPmTIFBoMBERER8PDwgNlsxuzZszFixIhKH5OWloYZM2bcdVAiIiJ3YlcF/dFHH+GDDz7A2rVrsW/fPqxatQrz58/HqlWrKn1McnIy9Hq9ZSkoKLjr0ERE5B5YQcs0adIkTJkyBU8//TQAoFOnTjh16hTS0tKQkJBg8zFqtRpqtfrukxIRkdvhNCuZrl27BqXS+iEeHh4oKytzaCgiIiJ3Z1cFPWjQIMyePRvNmzdHhw4d8OOPP2LhwoUYNWqUs/IREZE74zQred555x1MmzYNY8eORXFxMYKDg/Hiiy8iJSXFWfmIiIjckl0ddMOGDZGeno709HQnxSEiIrqFx6CJiIhIKLxZBhERCYsVNBEREQmFFTQREQlLASdU0HXkNG520EREJCwOcRMREZFQWEETEZG43PhCJaygiYiIBMQKmoiIhMVj0ERERCQUVtBERCQsd66gXdZBO+O4f00p7vhTBMwkj4iZADFzMZM8zCSfaHnuNbXWQet0Ouh0OpjNZgCAqh6gFqx+VwmWB2AmuUTMBIiZi5nkYabqGWshj0Jxc3H0PuuCWvt1a7VaaLVaGAwG+Pr6wlQKGEtrq/WqKXDzjW8qBSRXh/kTM8kjYiZAzFzMJA8zyWeqhc/wmx20o4e4Hbo7p3HZ9zEJYr3RAGaSi5nkEzEXM8nDTNUTKcu9SLABEyIiots4YYi7rhw85zQrIiIiAbGCJiIiYbnzNCtW0ERERAJiBU1ERMJy52lWrKCJiIhk0Ol0CA8Ph0ajQWxsLHbv3l3ptitXrrQMz5cvGo3GrvZYQRMRkbCUSgWUSseWvFIN9peVlYWkpCRkZmYiNjYW6enp6N+/Pw4fPgx/f3+bj/Hx8cHhw4ctP9t77JsVNBERCat8iNvRi70WLlyI0aNHIzExEe3bt0dmZiYaNGiA5cuXV5FdgcDAQMsSEBBgV5vsoImIiKpgMpmQl5eH+Ph4yzqlUon4+Hjk5uZW+rirV68iLCwMoaGhGDx4MA4ePGhXu+ygiYhIWHcex3XUAgAGg8FqMRqNNjNcuHABZrO5QgUcEBCAwsJCm49p27Ytli9fjs8++wxr1qxBWVkZunfvjjNnzsh+7uygiYjILYWGhsLX19eypKWlOWzfcXFxGDlyJCIjI9GnTx+sX78ezZo1w+LFi2Xvw66TxMLDw3Hq1KkK68eOHQudTmfProiIiKrlzGlWBQUF8PHxsaxXq9U2t/fz84OHhweKioqs1hcVFSEwMFBWm/Xr10fXrl1x7Ngx2TntqqD37NmDc+fOWZYtW7YAAIYOHWrPboiIiFzOx8fHaqmsg1apVIiKikJOTo5lXVlZGXJychAXFyerLbPZjP379yMoKEh2Prsq6GbNmln9PHfuXLRq1Qp9+vSxZzdERESyiHKpz6SkJCQkJCA6OhoxMTFIT09HSUkJEhMTAQAjR45ESEiIZZh85syZePDBB9G6dWtcvnwZb775Jk6dOoUXXnhBdps1ngdtMpmwZs0aJCUlVflkjUaj1YF3g8FQ0yaJiIhcYtiwYTh//jxSUlJQWFiIyMhIbN682XLi2OnTp6FU3hqUvnTpEkaPHo3CwkI0btwYUVFR2LVrF9q3by+7TYUkSTW6pedHH32EZ555BqdPn0ZwcHCl202fPh0zZsyosL74oh4Nbxv7dyUFAHU9wCjQzdCZSR4RMwFi5mImeZhJvisGA/yb+kKv11sdy3UEg8EAX19fdJj8GTzUXg7dt9lYgoPzBjsltyPV+CzuZcuWYcCAAVV2zgCQnJwMvV5vWQoKCmraJBERuRlRLlTiCjUa4j516hS2bt2K9evXV7utWq2u9MA7ERER2VajDnrFihXw9/fHwIEDHZ2HiIjIQgEnnCSGulFC2z3EXVZWhhUrViAhIQH16vFeG0RERM5gdw+7detWnD59GqNGjXJGHiIiIgt3vh+03R10v379UMMTv4mIiEgmjlETEZGwRLlQiSvwZhlEREQCYgVNRETC4jFoIiIiAXGIm4iIiITCCpqIiITlzkPcrKCJiIgExAqaiIiExWPQREREJBRW0EREJC5n3B6ybhTQrKCJiIhE5LIKWgFxvsQo7vhTBMwkj4iZADFzMZM8zCRfbeRx52PQtdZB63Q66HQ6mM1mAICqHqAWbIBdJVgegJnkEjETIGYuZpKHmapnFCzPvabWXl6tVgutVguDwQBfX1+YSgFjaW21XjUFbr7xTaWAKPfpYiZ5yjOdu3wdN8yipALqeygQ1Egj5GvFTFVjJvlMtfAZ7s7zoF32/UeCWG80gJnkEjHTDbMEY6loqcR8rZhJHmaqXm1kcechbp4kRkREJCAeQSAiImG58xA3K2giIiIBsYImIiJh8Rg0ERERCYUVNBERCYsVNBEREQmFFTQREQnLnc/iZgdNRETC4hA3ERERCYUVNBERCcudh7jtrqDPnj2LZ599Fk2bNoWnpyc6deqEvXv3OiMbERGR27Krgr506RJ69OiBhx56CF999RWaNWuGo0ePonHjxs7KR0REbsydj0Hb1UHPmzcPoaGhWLFihWVdixYtHB6KiIjI3dk1xP35558jOjoaQ4cOhb+/P7p27YqlS5c6KxsREbk5BW4dh3bY4uonJZNdHfSvv/6KjIwM3H///cjOzsaYMWMwfvx4rFq1qtLHGI1GGAwGq4WIiIiqZtcQd1lZGaKjozFnzhwAQNeuXXHgwAFkZmYiISHB5mPS0tIwY8aMu09KRERuR6lQQOngY8aO3p+z2FVBBwUFoX379lbr2rVrh9OnT1f6mOTkZOj1estSUFBQs6REROR2HD687YRpW85iVwXdo0cPHD582GrdkSNHEBYWVulj1Go11Gp1zdIRERG5Kbs66Jdffhndu3fHnDlz8NRTT2H37t1YsmQJlixZ4qx8RETkxtx5mpVdQ9zdunXDhg0b8OGHH6Jjx46YNWsW0tPTMWLECGflIyIickt2X+rz8ccfx+OPP+6MLERERFaUipuLo/dZF/BmGURERALizTKIiEhcCiccM2YFTURERDXFCpqIiITlzrebZAdNRETCUvz5n6P3WRdwiJuIiEhArKCJiEhYnGZFREREQmEFTUREwuKlPomIiEgorKCJiEhYnGblAgqIczEXxR1/ioCZ5CnPUt9DpFS38oiUSuTfHzNVTcRMgHh57jW11kHrdDrodDqYzWYAgKoeoBasflcJlgdgJrmCGmlcHcEmEV8rZpKHmapnrIU8SoUCSgeXvDXdn06nw5tvvonCwkJ06dIF77zzDmJiYqp93Lp16zB8+HAMHjwYGzdulN1erf26tVottFotDAYDfH19YSoFjKW11XrVFLj5xjeVApKrw/xJ5EwJyStw5GSRq+MAANqEB2BVWqJQrxNw67U6d/k6bpjFSFbfQ4GgRhqhXiuR3+fMVD1TLXyGizLEnZWVhaSkJGRmZiI2Nhbp6eno378/Dh8+DH9//0ofd/LkSbzyyivo1auX3W267PuYBLHeaAAzyXXkZBHyD51xdQwrIr5OAHDDLMFYKlYyEV8rZpJHtEwiZXG2hQsXYvTo0UhMTAQAZGZm4osvvsDy5csxZcoUm48xm80YMWIEZsyYgf/+97+4fPmyXW3yLG4iIhJW+TQrRy/2MJlMyMvLQ3x8vGWdUqlEfHw8cnNzK33czJkz4e/vj+eff75Gz12wIxpERES1w2AwWP2sVquhVqsrbHfhwgWYzWYEBARYrQ8ICMChQ4ds7nvnzp1YtmwZ8vPza5yPFTQREQmr/Bi0oxcACA0Nha+vr2VJS0tzSOYrV67gH//4B5YuXQo/P78a74cVNBERuaWCggL4+PhYfrZVPQOAn58fPDw8UFRkfXJsUVERAgMDK2x//PhxnDx5EoMGDbKsKysrAwDUq1cPhw8fRqtWrarNxw6aiIiE5cxpVj4+PlYddGVUKhWioqKQk5ODIUOGALjZ4ebk5GDcuHEVto+IiMD+/fut1k2dOhVXrlzB22+/jdDQUFk52UETERFVIykpCQkJCYiOjkZMTAzS09NRUlJiOat75MiRCAkJQVpaGjQaDTp27Gj1+EaNGgFAhfVVYQdNRETCcsZVJ2uyv2HDhuH8+fNISUlBYWEhIiMjsXnzZsuJY6dPn4ZS6djTuthBExGRsES6m9W4ceNsDmkDwPbt26t87MqVK+1uj2dxExERCYgVNBERCUupuLk4ep91AStoIiIiAdnVQU+fPr3C5dIiIiKclY2IiNycCJf6dBW7h7g7dOiArVu33tpBPY6SExEROZrdvWu9evVsXjmFiIjIGepIwetwdh+DPnr0KIKDg9GyZUuMGDECp0+fdkYuIiIit2ZXBR0bG4uVK1eibdu2OHfuHGbMmIFevXrhwIEDaNiwoc3HGI1GGI1Gy8933j2EiIioMiLNg65tdnXQAwYMsPx/586dERsbi7CwMHz00UeV3u8yLS0NM2bMuLuURETkljjNqoYaNWqENm3a4NixY5Vuk5ycDL1eb1kKCgrupkkiIiK3cFcd9NWrV3H8+HEEBQVVuo1arbbcMUTunUOIiIgA955mZVcH/corr2DHjh04efIkdu3ahSeeeAIeHh4YPny4s/IRERG5JbuOQZ85cwbDhw/HxYsX0axZM/Ts2RPff/89mjVr5qx8RETkxkS5m5Ur2NVBr1u3zlk5iIiI6Da8DBgREQlLqVBA6eBjxo7en7PwZhlEREQCYgVNRETCUigcf6nPOlJAs4MmIiJxufOVxDjETUREJCBW0EREJCx3HuJmBU1ERCQgVtBERCQsTrMiIiIiobCCJiIiYfEYNBEREQnFZRW0My6AXlOKO/4UgciZ2oQHuDTH7cqziPQ6Abfy1PcQJ1l5FnESif0+Z6bq1UYed54HXWsdtE6ng06ng9lsBgCo6gFqwQbYVYLlAcTMtCot0dURKhDxdQKAoEYaV0eoQMTXipnkES2TUbA895pae3m1Wi20Wi0MBgN8fX1hKgWMpbXVetUUuPnGN5UCkqvD/ImZ5CnPdO7yddwwi5LqZrUa1Egj5GvFTFVjJvlMtfAZroTjj8XWlWO7Lvv+I0GsNxrATHKJmOmGWYKxVLRUYr5WzCQPM1WvNrK48xB3XfkiQURE5FZ4BIGIiISlUABKTrMiIiIiUbCCJiIiYSmdUEE7en/OwgqaiIhIQKygiYhIWDyLm4iIiITCCpqIiITlzseg2UETEZGweDcrIiIiEgoraCIiEpZSoYDSwSWvo/fnLKygiYiIBHRXHfTcuXOhUCgwceJEB8UhIiK6RemkpS6occ49e/Zg8eLF6Ny5syPzEBEREWrYQV+9ehUjRozA0qVL0bhxY0dnIiIiAnDrLG5HL3VBjTporVaLgQMHIj4+vtptjUYjDAaD1UJERERVs/ss7nXr1mHfvn3Ys2ePrO3T0tIwY8YMu4MREREp4YSzuFE3Smi7KuiCggJMmDABH3zwATQajazHJCcnQ6/XW5aCgoIaBSUiIvfjzkPcdlXQeXl5KC4uxgMPPGBZZzab8e2332LRokUwGo3w8PCweoxarYZarXZMWiIiIjdhVwf9yCOPYP/+/VbrEhMTERERgcmTJ1fonImIiO4Gr8UtU8OGDdGxY0erdV5eXmjatGmF9URERFRzvNQnEREJS6Fw/KU578lj0LZs377dATGIiIjodqygiYhIWLzdJBEREQmFFTQREQnLnc/iZgVNRETCUjjpv5rQ6XQIDw+HRqNBbGwsdu/eXem269evR3R0NBo1agQvLy9ERkZi9erVdrXHDpqIiKgaWVlZSEpKQmpqKvbt24cuXbqgf//+KC4utrl9kyZN8NprryE3Nxc///wzEhMTkZiYiOzsbNltsoMmIiJhlQ9xO3qx18KFCzF69GgkJiaiffv2yMzMRIMGDbB8+XKb2/ft2xdPPPEE2rVrh1atWmHChAno3Lkzdu7cKf+52x+TiIjIfZhMJuTl5VndwVGpVCI+Ph65ubnVPl6SJOTk5ODw4cPo3bu37HZ5khgREQnLmSeJ3Xn748ruHXHhwgWYzWYEBARYrQ8ICMChQ4cqbUev1yMkJMRyn4p3330Xjz76qPycsrckIiK6h4SGhsLX19eypKWlOXT/DRs2RH5+Pvbs2YPZs2cjKSnJrot7sYImIiJhKRQKKBx+qc+b+ysoKICPj49lfWV3XvTz84OHhweKioqs1hcVFSEwMLDSdpRKJVq3bg0AiIyMxC+//IK0tDT07dtXVk5W0ERE5JZ8fHyslso6aJVKhaioKOTk5FjWlZWVIScnB3FxcbLbKysrg9FolL29yypoxZ+LCBR3/CkCZpKnPEt9D5FS3cojUiqRf3/MVDURMwG1k0eUC5UkJSUhISEB0dHRiImJQXp6OkpKSpCYmAgAGDlyJEJCQizD5GlpaYiOjkarVq1gNBrx5ZdfYvXq1cjIyJDdZq110DqdDjqdDmazGQCgqgeoBRtgVwmWB2AmuYIaaVwdwSYRXytmkoeZqmeshTyiXIt72LBhOH/+PFJSUlBYWIjIyEhs3rzZcuLY6dOnoVTeGpQuKSnB2LFjcebMGXh6eiIiIgJr1qzBsGHD5OeUJEmyP2rNGQwG+Pr64vxFPRreNvbvSgrcfOObSoFafTGqwEzyiJgJEDMXM8nDTPJdMRjQrKkv9Hq91bFcRyjvK2Z/mQ+NV0OH7vt6yRW89pdIp+R2JJd9H5Mg1hsNYCa5mEk+EXMxkzzMVL3ayKJUKBx+P2hH789ZeJIYERGRgAQ7okFERHSLKCeJuQIraCIiIgGxgiYiInE54Sxu4earVYIVNBERkYBYQRMRkbCUUEDp4JLX0ftzFnbQREQkLFEuVOIKHOImIiISECtoIiISFqdZERERkVBYQRMRkbB4qU+ZMjIy0LlzZ8u9M+Pi4vDVV185KxsREZHbsquDvu+++zB37lzk5eVh7969ePjhhzF48GAcPHjQWfmIiMiNlZ/F7eilLrBriHvQoEFWP8+ePRsZGRn4/vvv0aFDB4cGIyIicmc1PgZtNpvx8ccfo6SkBHFxcZVuZzQaYTQaLT8bDIaaNklERG5GCSccg75XL1Syf/9+xMXF4fr16/D29saGDRvQvn37SrdPS0vDjBkz7iokERG5J16oxA5t27ZFfn4+fvjhB4wZMwYJCQn43//+V+n2ycnJ0Ov1lqWgoOCuAhMREbkDuytolUqF1q1bAwCioqKwZ88evP3221i8eLHN7dVqNdRq9d2lJCIit6SE4y/YUVcuAHLXOcvKyqyOMRMREdHds6uCTk5OxoABA9C8eXNcuXIFa9euxfbt25Gdne2sfERE5MYUCgUUDj5o7Oj9OYtdHXRxcTFGjhyJc+fOwdfXF507d0Z2djYeffRRZ+UjIiJyS3Z10MuWLXNWDiIiogoUfy6O3mddUFeOlRMREbkV3iyDiIiE5c43y2AHTUREQqsb3anjcYibiIhIQKygiYhIWLzUJxEREQmFFTQREQnLnS9UwgqaiIhIQKygiYhIWLxZBhEREQmFFTQREQnLnY9Bu6yDdsb1VWtKccefImAmeUTMBIiZi5nkYSb5aiOPO1+Lu9Y6aJ1OB51OB7PZDABQ1QPUgtXvKsHyAMwkl4iZADFzMZM8zFQ9o2B57jW19vJqtVpotVoYDAb4+vrCVAoYS2ur9aopcPONbyoFJFeH+RMzySNiJkDMXMwkDzPJZ6qFz3AOcbuABLHeaAAzycVM8omYi5nkYabqiZTlXsQBCiIiEhanWREREZFQWEETEZGw3PkYNCtoIiIiAbGCJiIiYbnzPGhW0ERERAJiBU1ERMJSKG4ujt5nXcAOmoiIhKWEAkoHD0o7en/OwiFuIiIiAbGCJiIiYbnzEDcraCIiIgHZ1UGnpaWhW7duaNiwIfz9/TFkyBAcPnzYWdmIiMjNKZz0X11gVwe9Y8cOaLVafP/999iyZQtu3LiBfv36oaSkxFn5iIiI3JJdx6A3b95s9fPKlSvh7++PvLw89O7d26HBiIiI3PkY9F2dJKbX6wEATZo0qXQbo9EIo9Fo+dlgMNxNk0RERG6hxieJlZWVYeLEiejRowc6duxY6XZpaWnw9fW1LKGhoTVtkoiI3Iziz3nQjlzuyWPQt9NqtThw4ADWrVtX5XbJycnQ6/WWpaCgoKZNEhGRmykf4nb0UhfUqIMeN24cNm3ahG3btuG+++6rclu1Wg0fHx+rhYiIqK7R6XQIDw+HRqNBbGwsdu/eXem2S5cuRa9evdC4cWM0btwY8fHxVW5vi10dtCRJGDduHDZs2IBvvvkGLVq0sKsxIiIie4hSQWdlZSEpKQmpqanYt28funTpgv79+6O4uNjm9tu3b8fw4cOxbds25ObmIjQ0FP369cPZs2dlt2lXB63VarFmzRqsXbsWDRs2RGFhIQoLC/HHH3/YsxsiIqI6ZeHChRg9ejQSExPRvn17ZGZmokGDBli+fLnN7T/44AOMHTsWkZGRiIiIwHvvvYeysjLk5OTIbtOuDjojIwN6vR59+/ZFUFCQZcnKyrJnN0RERLKIcKESk8mEvLw8xMfHW9YplUrEx8cjNzdX1j6uXbuGGzduVDnr6U52TbOSJMmezYmIiIR157RftVoNtVpdYbsLFy7AbDYjICDAan1AQAAOHTokq63JkycjODjYqpOvDq/FTUREwlIqnLMAQGhoqNU04LS0NKc8h7lz52LdunXYsGEDNBqN7MfxblZEROSWCgoKrGYW2aqeAcDPzw8eHh4oKiqyWl9UVITAwMAq25g/fz7mzp2LrVu3onPnznblYwVNRETCcuYx6DunAFfWQatUKkRFRVmd4FV+wldcXFyl2d944w3MmjULmzdvRnR0tN3PnRU0EREJS5RrcSclJSEhIQHR0dGIiYlBeno6SkpKkJiYCAAYOXIkQkJCLMPk8+bNQ0pKCtauXYvw8HAUFhYCALy9veHt7S2rTXbQRERE1Rg2bBjOnz+PlJQUFBYWIjIyEps3b7acOHb69GkolbcGpTMyMmAymfD3v//daj+pqamYPn26rDbZQRMRkbAUgMOvnV3TvY0bNw7jxo2z+Xfbt2+3+vnkyZM1bOUWHoMmIiISECtoIiIS1u3Tohy5z7qAFTQREZGAWEETEZGwanJpTjn7rAtYQRMREQnIZRW0AjU/k87RFHf8KQJmkkfETICYuZhJHmaSrzbyiDIP2hVqrYPW6XTQ6XQwm80AAFU9QC3YALtKsDwAM8klYiZAzFzMJA8zVc9YC3mcUczVkf659jporVYLrVYLg8EAX19fmEoBY2lttV41BW6+8U2lgCj362ImeUTMBIiZi5nkYSb5TIJ8ht+rXPZ9TIJYbzSAmeRiJvlEzMVM8jBT9WojixIKKB08Jq2sIzU0TxIjIiISkGBHNIiIiG5x52PQrKCJiIgExAqaiIjE5cYlNCtoIiIiAbGCJiIiYbnzpT7ZQRMRkbiccCWxOtI/c4ibiIhIRKygiYhIWG58jhgraCIiIhGxgiYiInG5cQltdwX97bffYtCgQQgODoZCocDGjRudEIuIiMi92d1Bl5SUoEuXLtDpdM7IQ0REZKFw0n91gd1D3AMGDMCAAQOckYWIiIj+xGPQREQkLIUT5kE7fF61kzi9gzYajTAajZafDQaDs5skIqJ7hBufI+b8aVZpaWnw9fW1LKGhoc5ukoiIqM5zegednJwMvV5vWQoKCpzdJBER3SsUTlrqAKcPcavVaqjVamc3Q0REdE+xu4O+evUqjh07Zvn5xIkTyM/PR5MmTdC8eXOHhiMiIvfGu1nZYe/evXjooYcsPyclJQEAEhISsHLlSocFIyIicmd2d9B9+/aFJEnOyEJERGTFnadZ8WYZREREAuKFSoiISFjuPA+aHTQREYnLjXtoDnETEREJiBU0EREJy52nWbGCJiIiEhAraCIiEhanWREREZFQWEETEZGw3PgkblbQREREImIFTURE4nLjEtplHbRIt+RU3PGnCJhJHhEzAWLmYiZ5mEm+2sjjztOsaq2D1ul00Ol0MJvNAABVPUAtWP2uEiwPwExyiZgJEDMXM8nDTNUzCpbnXlNrL69Wq4VWq4XBYICvry9MpYCxtLZar5oCN9/4plJAlPt0MZM8ImYCxMzFTPIwk3ymWvgMd+dpVi77/iNBrDcawExyMZN8IuZiJnmYqXoiZbkXcYCCiIiE5cbniHGaFRERkYhYQRMRkbjcuIRmBU1ERCQgVtBERCQsd54HzQqaiIhIQKygiYhIWJwHTUREJCA3PkeMQ9xEREQiYgdNRETiUjhpqQGdTofw8HBoNBrExsZi9+7dlW578OBB/O1vf0N4eDgUCgXS09Ptbo8dNBERUTWysrKQlJSE1NRU7Nu3D126dEH//v1RXFxsc/tr166hZcuWmDt3LgIDA2vUZo06aHu+RRAREdWUwkn/2WvhwoUYPXo0EhMT0b59e2RmZqJBgwZYvny5ze27deuGN998E08//TTUanWNnrvdHbS93yKIiIjqMpPJhLy8PMTHx1vWKZVKxMfHIzc312nt2t1B2/stgoiIqMYUt6ZaOWopL6ANBoPVYjQabUa4cOECzGYzAgICrNYHBASgsLDQaU/drg7aVd8iiIiIHC00NBS+vr6WJS0tzdWRrNg1D7qqbxGHDh2y+Rij0Wj1rcRgMNQgJhERuSNnzoMuKCiAj4+PZX1lx4r9/Pzg4eGBoqIiq/VFRUU1PgFMDqefxZ2Wlmb1DSU0NNTZTRIR0b3CidOsfHx8rJbKOmiVSoWoqCjk5ORY1pWVlSEnJwdxcXEOfsK32NVB1+RbRHJyMvR6vWUpKCioeVoiIiIXSEpKwtKlS7Fq1Sr88ssvGDNmDEpKSpCYmAgAGDlyJJKTky3bm0wm5OfnIz8/HyaTCWfPnkV+fj6OHTsmu027hrhv/xYxZMgQALe+RYwbN87mY9RqdY1PMSciIvcmyt2shg0bhvPnzyMlJQWFhYWIjIzE5s2bLYd8T58+DaXyVs3722+/oWvXrpaf58+fj/nz56NPnz7Yvn27rDbtvhZ3UlISEhISEB0djZiYGKSnp1t9iyAiIroXjRs3rtJi9M5ONzw8HJIk3VV7dnfQ1X2LICIichTezcpOVX2LICIiorvH200SEZGweLtJIiIiEgoraCIiEpcbl9DsoImISFiiTLNyBQ5xExERCYgVNBERCUsBJ0yzcuzunIYVNBERkYBYQRMRkbDc+BwxVtBEREQiYgVNRETCcudLfbKCJiIiEhAraCIiEpj7HoWu9Q66/PZbVw2G2m66UgoAxnqAqRS4u5uDOQ4zySNiJkDMXMwkDzPJV/45fre3VayKOw9x11oHrdPpoNPpYDKZAAAtW4TWVtNEROREV65cga+vr6tj3HMUkjO/+thQVlaGNm3aIC8vD4q7+BpjMBgQGhqKgoIC+Pj43HWubt26Yc+ePXe1DxEzOToXM9VuLmZyTS5mkkeSJERFReHIkSNQKh17SpPBYICvry8OnTqPhg54n93uisGAiLBm0Ov1DnkPO0utD3ErlUqoVCqHfdvy8fFxyAvs4eHhsF+UiJkAx+RiJvnu9feUiJmAe/c9JWImAFCpVA7vnOkml5wkptVqXdFslZhJHmaST8RczCQPM8nn7FzufAy61oe4HaV8+EOkIQoRMwFi5mImeZhJPhFzMVPNlec8fNo5Q9xtm3OI22nUajVSU1OhVqtdHcVCxEyAmLmYSR5mkk/EXMx099z5dpN1toImIqJ7V3kFfeT0BadU0G2a+7GCJiIiqjH3vU4JO2giIhKXG/fPvBY3ERGRiOpsB63T6RAeHg6NRoPY2Fjs3r3bpXm+/fZbDBo0CMHBwVAoFNi4caNL86SlpaFbt25o2LAh/P39MWTIEBw+fNilmTIyMtC5c2fL/Mu4uDh89dVXLs10p7lz50KhUGDixIkuzTF9+nQoFAqrJSIiwqWZAODs2bN49tln0bRpU3h6eqJTp07Yu3evy/KEh4dXeJ0UCoVLpySZzWZMmzYNLVq0gKenJ1q1aoVZs2Y59XKYcly5cgUTJ05EWFgYPD090b17d4dc+MTZyqdZOXqpC+pkB52VlYWkpCSkpqZi37596NKlC/r374/i4mKXZSopKUGXLl2g0+lcluF2O3bsgFarxffff48tW7bgxo0b6NevH0pKSlyW6b777sPcuXORl5eHvXv34uGHH8bgwYNx8OBBl2W63Z49e7B48WJ07tzZ1VEAAB06dMC5c+csy86dO12a59KlS+jRowfq16+Pr776Cv/73/+wYMECNG7c2GWZ9uzZY/UabdmyBQAwdOhQl2WaN28eMjIysGjRIvzyyy+YN28e3njjDbzzzjsuywQAL7zwArZs2YLVq1dj//796NevH+Lj43H27FmX5qIqSHVQTEyMpNVqLT+bzWYpODhYSktLc2GqWwBIGzZscHUMK8XFxRIAaceOHa6OYqVx48bSe++95+oY0pUrV6T7779f2rJli9SnTx9pwoQJLs2TmpoqdenSxaUZ7jR58mSpZ8+ero5RpQkTJkitWrWSysrKXJZh4MCB0qhRo6zWPfnkk9KIESNclEiSrl27Jnl4eEibNm2yWv/AAw9Ir732motSVU2v10sApONnLkrFhhsOXY6fuSgBkPR6vaufZpXqXAVtMpmQl5eH+Ph4yzqlUon4+Hjk5ua6MJnY9Ho9AKBJkyYuTnKT2WzGunXrUFJSgri4OFfHgVarxcCBA63eV6529OhRBAcHo2XLlhgxYgROnz7t0jyff/45oqOjMXToUPj7+6Nr165YunSpSzPdzmQyYc2aNRg1atRdXef/bnXv3h05OTk4cuQIAOCnn37Czp07MWDAAJdlKi0thdlshkajsVrv6enp8pEZqlydO4v7woULMJvNCAgIsFofEBCAQ4cOuSiV2MrKyjBx4kT06NEDHTt2dGmW/fv3Iy4uDtevX4e3tzc2bNiA9u3buzTTunXrsG/fPqGOx8XGxmLlypVo27Ytzp07hxkzZqBXr144cOAAGjZs6JJMv/76KzIyMpCUlIR//etf2LNnD8aPHw+VSoWEhASXZLrdxo0bcfnyZTz33HMuzTFlyhQYDAZERETAw8MDZrMZs2fPxogRI1yWqWHDhoiLi8OsWbPQrl07BAQE4MMPP0Rubi5at27tslyyuPFp3HWugyb7abVaHDhwQIhvym3btkV+fj70ej0++eQTJCQkYMeOHS7rpAsKCjBhwgRs2bKlQnXhSrdXW507d0ZsbCzCwsLw0Ucf4fnnn3dJprKyMkRHR2POnDkAgK5du+LAgQPIzMwUooNetmwZBgwYgODgYJfm+Oijj/DBBx9g7dq16NChA/Lz8zFx4kQEBwe79HVavXo1Ro0ahZCQEHh4eOCBBx7A8OHDkZeX57JMVLU610H7+fnBw8MDRUVFVuuLiooQGBjoolTiGjduHDZt2oRvv/0W9913n6vjQKVSWb6xR0VFYc+ePXj77bexePFil+TJy8tDcXExHnjgAcs6s9mMb7/9FosWLYLRaISHh4dLst2uUaNGaNOmDY4dO+ayDEFBQRW+SLVr1w6ffvqpixLdcurUKWzduhXr1693dRRMmjQJU6ZMwdNPPw0A6NSpE06dOoW0tDSXdtCtWrXCjh07UFJSAoPBgKCgIAwbNgwtW7Z0WSY53LiArntncatUKkRFRSEnJ8eyrqysDDk5OUIcyxSFJEkYN24cNmzYgG+++QYtWrRwdSSbysrKYDQaXdb+I488gv379yM/P9+yREdHY8SIEcjPzxeicwaAq1ev4vjx4wgKCnJZhh49elSYqnfkyBGEhYW5KNEtK1asgL+/PwYOHOjqKLh27VqF2y96eHigrKzMRYmseXl5ISgoCJcuXUJ2djYGDx7s6khVcudpVnWuggaApKQkJCQkIDo6GjExMUhPT0dJSQkSExNdlunq1atW1c2JEyeQn5+PJk2aoHnz5rWeR6vVYu3atfjss8/QsGFDFBYWAgB8fX3h6elZ63kAIDk5GQMGDEDz5s1x5coVrF27Ftu3b0d2drZL8gA3j83deVzey8sLTZs2denx+ldeeQWDBg1CWFgYfvvtN6SmpsLDwwPDhw93WaaXX34Z3bt3x5w5c/DUU09h9+7dWLJkCZYsWeKyTMDNL3krVqxAQkIC6tVz/UfaoEGDMHv2bDRv3hwdOnTAjz/+iIULF2LUqFEuzZWdnQ1JktC2bVscO3YMkyZNQkREhEs/N6karj6NvKbeeecdqXnz5pJKpZJiYmKk77//3qV5tm3bJgGosCQkJLgkj60sAKQVK1a4JI8kSdKoUaOksLAwSaVSSc2aNZMeeeQR6euvv3ZZnsqIMM1q2LBhUlBQkKRSqaSQkBBp2LBh0rFjx1yaSZIk6T//+Y/UsWNHSa1WSxEREdKSJUtcHUnKzs6WAEiHDx92dRRJkiTJYDBIEyZMkJo3by5pNBqpZcuW0muvvSYZjUaX5srKypJatmwpqVQqKTAwUNJqtdLly5ddmqkq5dOsTvz2u3TxaqlDlxO//V4nplnxblZERCSc8rtZnfjtd4ffccpgMKBFcBPezYqIiKimnHHMuK4cg65zJ4kRERG5A3bQREREAmIHTUREJCAegyYiImG58zFodtBERCQsxZ//OXqfdQGHuImIiATECpqIiITlzkPcrKCJiIgExAqaiIiExbtZERERkVBYQRMRkbjcuIRmBU1ERCQgVtBERCQsd54HzQ6aiIiExWlWREREJBRW0EREJCw3PkeMFTQREZGIWEETEZG43LiEZgVNREQkg06nQ3h4ODQaDWJjY7F79+4qt//4448REREBjUaDTp064csvv7SrPXbQREQkLIWT/rNXVlYWkpKSkJqain379qFLly7o378/iouLbW6/a9cuDB8+HM8//zx+/PFHDBkyBEOGDMGBAwfkP3dJkiS7kxIRETmRwWCAr68vCi/o4ePj4/B9B/r5Qq+Xv+/Y2Fh069YNixYtAgCUlZUhNDQUL730EqZMmVJh+2HDhqGkpASbNm2yrHvwwQcRGRmJzMxMWW2ygiYiImGVz4N29GIPk8mEvLw8xMfHW9YplUrEx8cjNzfX5mNyc3OttgeA/v37V7q9LTxJjIiIhGUwGJy2zzv3rVaroVarK2x/4cIFmM1mBAQEWK0PCAjAoUOHbLZRWFhoc/vCwkLZOdlBExGRcFQqFQIDA3F/i1Cn7N/b2xuhodb7Tk1NxfTp053SXk2wgyYiIuFoNBqcOHECJpPJKfuXJAmKO8a6bVXPAODn5wcPDw8UFRVZrS8qKkJgYKDNxwQGBtq1vS3soImISEgajQYajcbVMaBSqRAVFYWcnBwMGTIEwM2TxHJycjBu3Dibj4mLi0NOTg4mTpxoWbdlyxbExcXJbpcdNBERUTWSkpKQkJCA6OhoxMTEID09HSUlJUhMTAQAjBw5EiEhIUhLSwMATJgwAX369MGCBQswcOBArFu3Dnv37sWSJUtkt8kOmoiIqBrDhg3D+fPnkZKSgsLCQkRGRmLz5s2WE8FOnz4NpfLWxKju3btj7dq1mDp1Kv71r3/h/vvvx8aNG9GxY0fZbXIeNBERkYA4D5qIiEhA7KCJiIgExA6aiIhIQOygiYiIBMQOmoiISEDsoImIiATEDpqIiEhA7KCJiIgExA6aiIhIQOygiYiIBMQOmoiISEDsoImIiAT0/wHehal1DZnyLgAAAABJRU5ErkJggg==\n"
                },
                "metadata": {}
              }
            ]
          }
        },
        "080bf8585e1648c08ee84d3a3d39be1e": {
          "model_module": "@jupyter-widgets/base",
          "model_name": "LayoutModel",
          "model_module_version": "1.2.0",
          "state": {
            "_model_module": "@jupyter-widgets/base",
            "_model_module_version": "1.2.0",
            "_model_name": "LayoutModel",
            "_view_count": null,
            "_view_module": "@jupyter-widgets/base",
            "_view_module_version": "1.2.0",
            "_view_name": "LayoutView",
            "align_content": null,
            "align_items": null,
            "align_self": null,
            "border": null,
            "bottom": null,
            "display": null,
            "flex": null,
            "flex_flow": null,
            "grid_area": null,
            "grid_auto_columns": null,
            "grid_auto_flow": null,
            "grid_auto_rows": null,
            "grid_column": null,
            "grid_gap": null,
            "grid_row": null,
            "grid_template_areas": null,
            "grid_template_columns": null,
            "grid_template_rows": null,
            "height": null,
            "justify_content": null,
            "justify_items": null,
            "left": null,
            "margin": null,
            "max_height": null,
            "max_width": null,
            "min_height": null,
            "min_width": null,
            "object_fit": null,
            "object_position": null,
            "order": null,
            "overflow": null,
            "overflow_x": null,
            "overflow_y": null,
            "padding": null,
            "right": null,
            "top": null,
            "visibility": null,
            "width": null
          }
        },
        "6ae88598608d4450bacded27563a2b66": {
          "model_module": "@jupyter-widgets/base",
          "model_name": "LayoutModel",
          "model_module_version": "1.2.0",
          "state": {
            "_model_module": "@jupyter-widgets/base",
            "_model_module_version": "1.2.0",
            "_model_name": "LayoutModel",
            "_view_count": null,
            "_view_module": "@jupyter-widgets/base",
            "_view_module_version": "1.2.0",
            "_view_name": "LayoutView",
            "align_content": null,
            "align_items": null,
            "align_self": null,
            "border": null,
            "bottom": null,
            "display": null,
            "flex": null,
            "flex_flow": null,
            "grid_area": null,
            "grid_auto_columns": null,
            "grid_auto_flow": null,
            "grid_auto_rows": null,
            "grid_column": null,
            "grid_gap": null,
            "grid_row": null,
            "grid_template_areas": null,
            "grid_template_columns": null,
            "grid_template_rows": null,
            "height": null,
            "justify_content": null,
            "justify_items": null,
            "left": null,
            "margin": null,
            "max_height": null,
            "max_width": null,
            "min_height": null,
            "min_width": null,
            "object_fit": null,
            "object_position": null,
            "order": null,
            "overflow": null,
            "overflow_x": null,
            "overflow_y": null,
            "padding": null,
            "right": null,
            "top": null,
            "visibility": null,
            "width": null
          }
        },
        "e2d329d179ea4d4797f94dba95ad5c19": {
          "model_module": "@jupyter-widgets/controls",
          "model_name": "DescriptionStyleModel",
          "model_module_version": "1.5.0",
          "state": {
            "_model_module": "@jupyter-widgets/controls",
            "_model_module_version": "1.5.0",
            "_model_name": "DescriptionStyleModel",
            "_view_count": null,
            "_view_module": "@jupyter-widgets/base",
            "_view_module_version": "1.2.0",
            "_view_name": "StyleView",
            "description_width": ""
          }
        },
        "237ad7b057ed49589e7c1d6f781d367e": {
          "model_module": "@jupyter-widgets/base",
          "model_name": "LayoutModel",
          "model_module_version": "1.2.0",
          "state": {
            "_model_module": "@jupyter-widgets/base",
            "_model_module_version": "1.2.0",
            "_model_name": "LayoutModel",
            "_view_count": null,
            "_view_module": "@jupyter-widgets/base",
            "_view_module_version": "1.2.0",
            "_view_name": "LayoutView",
            "align_content": null,
            "align_items": null,
            "align_self": null,
            "border": null,
            "bottom": null,
            "display": null,
            "flex": null,
            "flex_flow": null,
            "grid_area": null,
            "grid_auto_columns": null,
            "grid_auto_flow": null,
            "grid_auto_rows": null,
            "grid_column": null,
            "grid_gap": null,
            "grid_row": null,
            "grid_template_areas": null,
            "grid_template_columns": null,
            "grid_template_rows": null,
            "height": null,
            "justify_content": null,
            "justify_items": null,
            "left": null,
            "margin": null,
            "max_height": null,
            "max_width": null,
            "min_height": null,
            "min_width": null,
            "object_fit": null,
            "object_position": null,
            "order": null,
            "overflow": null,
            "overflow_x": null,
            "overflow_y": null,
            "padding": null,
            "right": null,
            "top": null,
            "visibility": null,
            "width": null
          }
        },
        "9a6af3297d404023bc4fc38777e7c31f": {
          "model_module": "@jupyter-widgets/controls",
          "model_name": "DescriptionStyleModel",
          "model_module_version": "1.5.0",
          "state": {
            "_model_module": "@jupyter-widgets/controls",
            "_model_module_version": "1.5.0",
            "_model_name": "DescriptionStyleModel",
            "_view_count": null,
            "_view_module": "@jupyter-widgets/base",
            "_view_module_version": "1.2.0",
            "_view_name": "StyleView",
            "description_width": ""
          }
        },
        "d1241acc0de24eebafb6ca491a9a8711": {
          "model_module": "@jupyter-widgets/base",
          "model_name": "LayoutModel",
          "model_module_version": "1.2.0",
          "state": {
            "_model_module": "@jupyter-widgets/base",
            "_model_module_version": "1.2.0",
            "_model_name": "LayoutModel",
            "_view_count": null,
            "_view_module": "@jupyter-widgets/base",
            "_view_module_version": "1.2.0",
            "_view_name": "LayoutView",
            "align_content": null,
            "align_items": null,
            "align_self": null,
            "border": null,
            "bottom": null,
            "display": null,
            "flex": null,
            "flex_flow": null,
            "grid_area": null,
            "grid_auto_columns": null,
            "grid_auto_flow": null,
            "grid_auto_rows": null,
            "grid_column": null,
            "grid_gap": null,
            "grid_row": null,
            "grid_template_areas": null,
            "grid_template_columns": null,
            "grid_template_rows": null,
            "height": null,
            "justify_content": null,
            "justify_items": null,
            "left": null,
            "margin": null,
            "max_height": null,
            "max_width": null,
            "min_height": null,
            "min_width": null,
            "object_fit": null,
            "object_position": null,
            "order": null,
            "overflow": null,
            "overflow_x": null,
            "overflow_y": null,
            "padding": null,
            "right": null,
            "top": null,
            "visibility": null,
            "width": null
          }
        },
        "873c5d7d7218429483f6714585ba3a01": {
          "model_module": "@jupyter-widgets/controls",
          "model_name": "ToggleButtonsStyleModel",
          "model_module_version": "1.5.0",
          "state": {
            "_model_module": "@jupyter-widgets/controls",
            "_model_module_version": "1.5.0",
            "_model_name": "ToggleButtonsStyleModel",
            "_view_count": null,
            "_view_module": "@jupyter-widgets/base",
            "_view_module_version": "1.2.0",
            "_view_name": "StyleView",
            "button_width": "",
            "description_width": "",
            "font_weight": ""
          }
        },
        "9525c34513974a1595b537b8d0c6419f": {
          "model_module": "@jupyter-widgets/base",
          "model_name": "LayoutModel",
          "model_module_version": "1.2.0",
          "state": {
            "_model_module": "@jupyter-widgets/base",
            "_model_module_version": "1.2.0",
            "_model_name": "LayoutModel",
            "_view_count": null,
            "_view_module": "@jupyter-widgets/base",
            "_view_module_version": "1.2.0",
            "_view_name": "LayoutView",
            "align_content": null,
            "align_items": null,
            "align_self": null,
            "border": null,
            "bottom": null,
            "display": null,
            "flex": null,
            "flex_flow": null,
            "grid_area": null,
            "grid_auto_columns": null,
            "grid_auto_flow": null,
            "grid_auto_rows": null,
            "grid_column": null,
            "grid_gap": null,
            "grid_row": null,
            "grid_template_areas": null,
            "grid_template_columns": null,
            "grid_template_rows": null,
            "height": null,
            "justify_content": null,
            "justify_items": null,
            "left": null,
            "margin": null,
            "max_height": null,
            "max_width": null,
            "min_height": null,
            "min_width": null,
            "object_fit": null,
            "object_position": null,
            "order": null,
            "overflow": null,
            "overflow_x": null,
            "overflow_y": null,
            "padding": null,
            "right": null,
            "top": null,
            "visibility": null,
            "width": null
          }
        },
        "96f9d701755f4b148663db7ceaa2176f": {
          "model_module": "@jupyter-widgets/controls",
          "model_name": "VBoxModel",
          "model_module_version": "1.5.0",
          "state": {
            "_dom_classes": [
              "widget-interact"
            ],
            "_model_module": "@jupyter-widgets/controls",
            "_model_module_version": "1.5.0",
            "_model_name": "VBoxModel",
            "_view_count": null,
            "_view_module": "@jupyter-widgets/controls",
            "_view_module_version": "1.5.0",
            "_view_name": "VBoxView",
            "box_style": "",
            "children": [
              "IPY_MODEL_d848359e8d274da9bbdf777653fa0f16",
              "IPY_MODEL_6fd696ed5a064975abcda511e3d4a6ba",
              "IPY_MODEL_7967ff0ce4a4455cb16244932018c50e"
            ],
            "layout": "IPY_MODEL_7dc78b1525e84f899fc6543f41c5fdc3"
          }
        },
        "d848359e8d274da9bbdf777653fa0f16": {
          "model_module": "@jupyter-widgets/controls",
          "model_name": "ToggleButtonsModel",
          "model_module_version": "1.5.0",
          "state": {
            "_dom_classes": [],
            "_model_module": "@jupyter-widgets/controls",
            "_model_module_version": "1.5.0",
            "_model_name": "ToggleButtonsModel",
            "_options_labels": [
              "left",
              "right",
              "up",
              "down"
            ],
            "_view_count": null,
            "_view_module": "@jupyter-widgets/controls",
            "_view_module_version": "1.5.0",
            "_view_name": "ToggleButtonsView",
            "button_style": "",
            "description": "action",
            "description_tooltip": null,
            "disabled": false,
            "icons": [],
            "index": 0,
            "layout": "IPY_MODEL_406043bf53b247eb824bb69a3300ef79",
            "style": "IPY_MODEL_155e307f99a7495f84da6a9a75922bf8",
            "tooltips": []
          }
        },
        "6fd696ed5a064975abcda511e3d4a6ba": {
          "model_module": "@jupyter-widgets/controls",
          "model_name": "IntSliderModel",
          "model_module_version": "1.5.0",
          "state": {
            "_dom_classes": [],
            "_model_module": "@jupyter-widgets/controls",
            "_model_module_version": "1.5.0",
            "_model_name": "IntSliderModel",
            "_view_count": null,
            "_view_module": "@jupyter-widgets/controls",
            "_view_module_version": "1.5.0",
            "_view_name": "IntSliderView",
            "continuous_update": true,
            "description": "numIter",
            "description_tooltip": null,
            "disabled": false,
            "layout": "IPY_MODEL_8aefa79cdf82487483c7f2aec4e20079",
            "max": 20,
            "min": 0,
            "orientation": "horizontal",
            "readout": true,
            "readout_format": "d",
            "step": 1,
            "style": "IPY_MODEL_199affb17c894387818b0298c1091407",
            "value": 4
          }
        },
        "7967ff0ce4a4455cb16244932018c50e": {
          "model_module": "@jupyter-widgets/output",
          "model_name": "OutputModel",
          "model_module_version": "1.0.0",
          "state": {
            "_dom_classes": [],
            "_model_module": "@jupyter-widgets/output",
            "_model_module_version": "1.0.0",
            "_model_name": "OutputModel",
            "_view_count": null,
            "_view_module": "@jupyter-widgets/output",
            "_view_module_version": "1.0.0",
            "_view_name": "OutputView",
            "layout": "IPY_MODEL_e9bc98b0461c4b92aeba20ca474f7420",
            "msg_id": "",
            "outputs": [
              {
                "output_type": "error",
                "ename": "TypeError",
                "evalue": "'int' object is not subscriptable",
                "traceback": [
                  "\u001b[0;31m---------------------------------------------------------------------------\u001b[0m",
                  "\u001b[0;31mTypeError\u001b[0m                                 Traceback (most recent call last)",
                  "\u001b[0;32m/usr/local/lib/python3.12/dist-packages/ipywidgets/widgets/interaction.py\u001b[0m in \u001b[0;36mupdate\u001b[0;34m(self, *args)\u001b[0m\n\u001b[1;32m    255\u001b[0m                     \u001b[0mvalue\u001b[0m \u001b[0;34m=\u001b[0m \u001b[0mwidget\u001b[0m\u001b[0;34m.\u001b[0m\u001b[0mget_interact_value\u001b[0m\u001b[0;34m(\u001b[0m\u001b[0;34m)\u001b[0m\u001b[0;34m\u001b[0m\u001b[0;34m\u001b[0m\u001b[0m\n\u001b[1;32m    256\u001b[0m                     \u001b[0mself\u001b[0m\u001b[0;34m.\u001b[0m\u001b[0mkwargs\u001b[0m\u001b[0;34m[\u001b[0m\u001b[0mwidget\u001b[0m\u001b[0;34m.\u001b[0m\u001b[0m_kwarg\u001b[0m\u001b[0;34m]\u001b[0m \u001b[0;34m=\u001b[0m \u001b[0mvalue\u001b[0m\u001b[0;34m\u001b[0m\u001b[0;34m\u001b[0m\u001b[0m\n\u001b[0;32m--> 257\u001b[0;31m                 \u001b[0mself\u001b[0m\u001b[0;34m.\u001b[0m\u001b[0mresult\u001b[0m \u001b[0;34m=\u001b[0m \u001b[0mself\u001b[0m\u001b[0;34m.\u001b[0m\u001b[0mf\u001b[0m\u001b[0;34m(\u001b[0m\u001b[0;34m**\u001b[0m\u001b[0mself\u001b[0m\u001b[0;34m.\u001b[0m\u001b[0mkwargs\u001b[0m\u001b[0;34m)\u001b[0m\u001b[0;34m\u001b[0m\u001b[0;34m\u001b[0m\u001b[0m\n\u001b[0m\u001b[1;32m    258\u001b[0m                 \u001b[0mshow_inline_matplotlib_plots\u001b[0m\u001b[0;34m(\u001b[0m\u001b[0;34m)\u001b[0m\u001b[0;34m\u001b[0m\u001b[0;34m\u001b[0m\u001b[0m\n\u001b[1;32m    259\u001b[0m                 \u001b[0;32mif\u001b[0m \u001b[0mself\u001b[0m\u001b[0;34m.\u001b[0m\u001b[0mauto_display\u001b[0m \u001b[0;32mand\u001b[0m \u001b[0mself\u001b[0m\u001b[0;34m.\u001b[0m\u001b[0mresult\u001b[0m \u001b[0;32mis\u001b[0m \u001b[0;32mnot\u001b[0m \u001b[0;32mNone\u001b[0m\u001b[0;34m:\u001b[0m\u001b[0;34m\u001b[0m\u001b[0;34m\u001b[0m\u001b[0m\n",
                  "\u001b[0;32m/tmp/ipython-input-2683916422.py\u001b[0m in \u001b[0;36mf\u001b[0;34m(action, numIter)\u001b[0m\n\u001b[1;32m      1\u001b[0m \u001b[0;32mdef\u001b[0m \u001b[0mf\u001b[0m\u001b[0;34m(\u001b[0m\u001b[0maction\u001b[0m\u001b[0;34m,\u001b[0m \u001b[0mnumIter\u001b[0m\u001b[0;34m=\u001b[0m\u001b[0;36m1\u001b[0m\u001b[0;34m)\u001b[0m\u001b[0;34m:\u001b[0m\u001b[0;34m\u001b[0m\u001b[0;34m\u001b[0m\u001b[0m\n\u001b[0;32m----> 2\u001b[0;31m     \u001b[0mU\u001b[0m \u001b[0;34m=\u001b[0m \u001b[0miterativePolicyEvaluation\u001b[0m\u001b[0;34m(\u001b[0m\u001b[0mmdp\u001b[0m\u001b[0;34m,\u001b[0m \u001b[0mpolicy\u001b[0m\u001b[0;34m=\u001b[0m\u001b[0mmdp\u001b[0m\u001b[0;34m.\u001b[0m\u001b[0mA\u001b[0m\u001b[0;34m.\u001b[0m\u001b[0mindex\u001b[0m\u001b[0;34m(\u001b[0m\u001b[0maction\u001b[0m\u001b[0;34m)\u001b[0m\u001b[0;34m,\u001b[0m \u001b[0mnumIterations\u001b[0m\u001b[0;34m=\u001b[0m\u001b[0mnumIter\u001b[0m\u001b[0;34m)\u001b[0m\u001b[0;34m\u001b[0m\u001b[0;34m\u001b[0m\u001b[0m\n\u001b[0m\u001b[1;32m      3\u001b[0m     \u001b[0mpl\u001b[0m\u001b[0;34m.\u001b[0m\u001b[0mfigure\u001b[0m\u001b[0;34m(\u001b[0m\u001b[0mfigsize\u001b[0m\u001b[0;34m=\u001b[0m\u001b[0;34m(\u001b[0m\u001b[0;36m3\u001b[0m\u001b[0;34m,\u001b[0m\u001b[0;36m3\u001b[0m\u001b[0;34m)\u001b[0m\u001b[0;34m)\u001b[0m\u001b[0;34m\u001b[0m\u001b[0;34m\u001b[0m\u001b[0m\n\u001b[1;32m      4\u001b[0m     \u001b[0mmdp\u001b[0m\u001b[0;34m.\u001b[0m\u001b[0mgridPlot\u001b[0m\u001b[0;34m(\u001b[0m\u001b[0max\u001b[0m\u001b[0;34m=\u001b[0m\u001b[0mpl\u001b[0m\u001b[0;34m.\u001b[0m\u001b[0mgca\u001b[0m\u001b[0;34m(\u001b[0m\u001b[0;34m)\u001b[0m\u001b[0;34m,\u001b[0m \u001b[0mim\u001b[0m\u001b[0;34m=\u001b[0m\u001b[0mU\u001b[0m\u001b[0;34m.\u001b[0m\u001b[0mreshape\u001b[0m\u001b[0;34m(\u001b[0m\u001b[0;36m10\u001b[0m\u001b[0;34m,\u001b[0m\u001b[0;36m10\u001b[0m\u001b[0;34m)\u001b[0m\u001b[0;34m,\u001b[0m \u001b[0mtitle\u001b[0m\u001b[0;34m=\u001b[0m\u001b[0;34m'Utility'\u001b[0m\u001b[0;34m,\u001b[0m \u001b[0mcmap\u001b[0m\u001b[0;34m=\u001b[0m\u001b[0;34m'jet'\u001b[0m\u001b[0;34m)\u001b[0m\u001b[0;34m\u001b[0m\u001b[0;34m\u001b[0m\u001b[0m\n\u001b[1;32m      5\u001b[0m     \u001b[0mpl\u001b[0m\u001b[0;34m.\u001b[0m\u001b[0mshow\u001b[0m\u001b[0;34m(\u001b[0m\u001b[0;34m)\u001b[0m\u001b[0;34m\u001b[0m\u001b[0;34m\u001b[0m\u001b[0m\n",
                  "\u001b[0;32m/tmp/ipython-input-2592419366.py\u001b[0m in \u001b[0;36miterativePolicyEvaluation\u001b[0;34m(mdp, policy, numIterations)\u001b[0m\n\u001b[1;32m      9\u001b[0m         \u001b[0mU_old\u001b[0m \u001b[0;34m=\u001b[0m \u001b[0mU\u001b[0m\u001b[0;34m.\u001b[0m\u001b[0mcopy\u001b[0m\u001b[0;34m(\u001b[0m\u001b[0;34m)\u001b[0m\u001b[0;34m\u001b[0m\u001b[0;34m\u001b[0m\u001b[0m\n\u001b[1;32m     10\u001b[0m         \u001b[0;32mfor\u001b[0m \u001b[0ms\u001b[0m \u001b[0;32min\u001b[0m \u001b[0mgetS\u001b[0m\u001b[0;34m:\u001b[0m\u001b[0;34m\u001b[0m\u001b[0;34m\u001b[0m\u001b[0m\n\u001b[0;32m---> 11\u001b[0;31m             \u001b[0ma\u001b[0m \u001b[0;34m=\u001b[0m \u001b[0mpolicy\u001b[0m\u001b[0;34m[\u001b[0m\u001b[0ms\u001b[0m\u001b[0;34m]\u001b[0m\u001b[0;34m\u001b[0m\u001b[0;34m\u001b[0m\u001b[0m\n\u001b[0m\u001b[1;32m     12\u001b[0m             \u001b[0mU\u001b[0m\u001b[0;34m[\u001b[0m\u001b[0ms\u001b[0m\u001b[0;34m]\u001b[0m \u001b[0;34m=\u001b[0m \u001b[0mgetR\u001b[0m\u001b[0;34m[\u001b[0m\u001b[0ms\u001b[0m\u001b[0;34m,\u001b[0m \u001b[0ma\u001b[0m\u001b[0;34m]\u001b[0m \u001b[0;34m+\u001b[0m \u001b[0mdiscount\u001b[0m \u001b[0;34m*\u001b[0m \u001b[0mnp\u001b[0m\u001b[0;34m.\u001b[0m\u001b[0msum\u001b[0m\u001b[0;34m(\u001b[0m\u001b[0mgetT\u001b[0m\u001b[0;34m[\u001b[0m\u001b[0ms\u001b[0m\u001b[0;34m,\u001b[0m \u001b[0ma\u001b[0m\u001b[0;34m,\u001b[0m \u001b[0;34m:\u001b[0m\u001b[0;34m]\u001b[0m \u001b[0;34m*\u001b[0m \u001b[0mU_old\u001b[0m\u001b[0;34m)\u001b[0m\u001b[0;34m\u001b[0m\u001b[0;34m\u001b[0m\u001b[0m\n\u001b[1;32m     13\u001b[0m     \u001b[0;32mreturn\u001b[0m \u001b[0mU\u001b[0m\u001b[0;34m\u001b[0m\u001b[0;34m\u001b[0m\u001b[0m\n",
                  "\u001b[0;31mTypeError\u001b[0m: 'int' object is not subscriptable"
                ]
              }
            ]
          }
        },
        "7dc78b1525e84f899fc6543f41c5fdc3": {
          "model_module": "@jupyter-widgets/base",
          "model_name": "LayoutModel",
          "model_module_version": "1.2.0",
          "state": {
            "_model_module": "@jupyter-widgets/base",
            "_model_module_version": "1.2.0",
            "_model_name": "LayoutModel",
            "_view_count": null,
            "_view_module": "@jupyter-widgets/base",
            "_view_module_version": "1.2.0",
            "_view_name": "LayoutView",
            "align_content": null,
            "align_items": null,
            "align_self": null,
            "border": null,
            "bottom": null,
            "display": null,
            "flex": null,
            "flex_flow": null,
            "grid_area": null,
            "grid_auto_columns": null,
            "grid_auto_flow": null,
            "grid_auto_rows": null,
            "grid_column": null,
            "grid_gap": null,
            "grid_row": null,
            "grid_template_areas": null,
            "grid_template_columns": null,
            "grid_template_rows": null,
            "height": null,
            "justify_content": null,
            "justify_items": null,
            "left": null,
            "margin": null,
            "max_height": null,
            "max_width": null,
            "min_height": null,
            "min_width": null,
            "object_fit": null,
            "object_position": null,
            "order": null,
            "overflow": null,
            "overflow_x": null,
            "overflow_y": null,
            "padding": null,
            "right": null,
            "top": null,
            "visibility": null,
            "width": null
          }
        },
        "406043bf53b247eb824bb69a3300ef79": {
          "model_module": "@jupyter-widgets/base",
          "model_name": "LayoutModel",
          "model_module_version": "1.2.0",
          "state": {
            "_model_module": "@jupyter-widgets/base",
            "_model_module_version": "1.2.0",
            "_model_name": "LayoutModel",
            "_view_count": null,
            "_view_module": "@jupyter-widgets/base",
            "_view_module_version": "1.2.0",
            "_view_name": "LayoutView",
            "align_content": null,
            "align_items": null,
            "align_self": null,
            "border": null,
            "bottom": null,
            "display": null,
            "flex": null,
            "flex_flow": null,
            "grid_area": null,
            "grid_auto_columns": null,
            "grid_auto_flow": null,
            "grid_auto_rows": null,
            "grid_column": null,
            "grid_gap": null,
            "grid_row": null,
            "grid_template_areas": null,
            "grid_template_columns": null,
            "grid_template_rows": null,
            "height": null,
            "justify_content": null,
            "justify_items": null,
            "left": null,
            "margin": null,
            "max_height": null,
            "max_width": null,
            "min_height": null,
            "min_width": null,
            "object_fit": null,
            "object_position": null,
            "order": null,
            "overflow": null,
            "overflow_x": null,
            "overflow_y": null,
            "padding": null,
            "right": null,
            "top": null,
            "visibility": null,
            "width": null
          }
        },
        "155e307f99a7495f84da6a9a75922bf8": {
          "model_module": "@jupyter-widgets/controls",
          "model_name": "ToggleButtonsStyleModel",
          "model_module_version": "1.5.0",
          "state": {
            "_model_module": "@jupyter-widgets/controls",
            "_model_module_version": "1.5.0",
            "_model_name": "ToggleButtonsStyleModel",
            "_view_count": null,
            "_view_module": "@jupyter-widgets/base",
            "_view_module_version": "1.2.0",
            "_view_name": "StyleView",
            "button_width": "",
            "description_width": "",
            "font_weight": ""
          }
        },
        "8aefa79cdf82487483c7f2aec4e20079": {
          "model_module": "@jupyter-widgets/base",
          "model_name": "LayoutModel",
          "model_module_version": "1.2.0",
          "state": {
            "_model_module": "@jupyter-widgets/base",
            "_model_module_version": "1.2.0",
            "_model_name": "LayoutModel",
            "_view_count": null,
            "_view_module": "@jupyter-widgets/base",
            "_view_module_version": "1.2.0",
            "_view_name": "LayoutView",
            "align_content": null,
            "align_items": null,
            "align_self": null,
            "border": null,
            "bottom": null,
            "display": null,
            "flex": null,
            "flex_flow": null,
            "grid_area": null,
            "grid_auto_columns": null,
            "grid_auto_flow": null,
            "grid_auto_rows": null,
            "grid_column": null,
            "grid_gap": null,
            "grid_row": null,
            "grid_template_areas": null,
            "grid_template_columns": null,
            "grid_template_rows": null,
            "height": null,
            "justify_content": null,
            "justify_items": null,
            "left": null,
            "margin": null,
            "max_height": null,
            "max_width": null,
            "min_height": null,
            "min_width": null,
            "object_fit": null,
            "object_position": null,
            "order": null,
            "overflow": null,
            "overflow_x": null,
            "overflow_y": null,
            "padding": null,
            "right": null,
            "top": null,
            "visibility": null,
            "width": null
          }
        },
        "199affb17c894387818b0298c1091407": {
          "model_module": "@jupyter-widgets/controls",
          "model_name": "SliderStyleModel",
          "model_module_version": "1.5.0",
          "state": {
            "_model_module": "@jupyter-widgets/controls",
            "_model_module_version": "1.5.0",
            "_model_name": "SliderStyleModel",
            "_view_count": null,
            "_view_module": "@jupyter-widgets/base",
            "_view_module_version": "1.2.0",
            "_view_name": "StyleView",
            "description_width": "",
            "handle_color": null
          }
        },
        "e9bc98b0461c4b92aeba20ca474f7420": {
          "model_module": "@jupyter-widgets/base",
          "model_name": "LayoutModel",
          "model_module_version": "1.2.0",
          "state": {
            "_model_module": "@jupyter-widgets/base",
            "_model_module_version": "1.2.0",
            "_model_name": "LayoutModel",
            "_view_count": null,
            "_view_module": "@jupyter-widgets/base",
            "_view_module_version": "1.2.0",
            "_view_name": "LayoutView",
            "align_content": null,
            "align_items": null,
            "align_self": null,
            "border": null,
            "bottom": null,
            "display": null,
            "flex": null,
            "flex_flow": null,
            "grid_area": null,
            "grid_auto_columns": null,
            "grid_auto_flow": null,
            "grid_auto_rows": null,
            "grid_column": null,
            "grid_gap": null,
            "grid_row": null,
            "grid_template_areas": null,
            "grid_template_columns": null,
            "grid_template_rows": null,
            "height": null,
            "justify_content": null,
            "justify_items": null,
            "left": null,
            "margin": null,
            "max_height": null,
            "max_width": null,
            "min_height": null,
            "min_width": null,
            "object_fit": null,
            "object_position": null,
            "order": null,
            "overflow": null,
            "overflow_x": null,
            "overflow_y": null,
            "padding": null,
            "right": null,
            "top": null,
            "visibility": null,
            "width": null
          }
        },
        "cf0c963fe69140e093065b5634b3ffa3": {
          "model_module": "@jupyter-widgets/controls",
          "model_name": "VBoxModel",
          "model_module_version": "1.5.0",
          "state": {
            "_dom_classes": [
              "widget-interact"
            ],
            "_model_module": "@jupyter-widgets/controls",
            "_model_module_version": "1.5.0",
            "_model_name": "VBoxModel",
            "_view_count": null,
            "_view_module": "@jupyter-widgets/controls",
            "_view_module_version": "1.5.0",
            "_view_name": "VBoxView",
            "box_style": "",
            "children": [
              "IPY_MODEL_0e3649c00f874cfbabe60d9c75f9cb70",
              "IPY_MODEL_56e0878d2d884d7ca46fdb769ae553b3"
            ],
            "layout": "IPY_MODEL_1d61ca59fda94567a41d169e471e30f3"
          }
        },
        "0e3649c00f874cfbabe60d9c75f9cb70": {
          "model_module": "@jupyter-widgets/controls",
          "model_name": "IntSliderModel",
          "model_module_version": "1.5.0",
          "state": {
            "_dom_classes": [],
            "_model_module": "@jupyter-widgets/controls",
            "_model_module_version": "1.5.0",
            "_model_name": "IntSliderModel",
            "_view_count": null,
            "_view_module": "@jupyter-widgets/controls",
            "_view_module_version": "1.5.0",
            "_view_name": "IntSliderView",
            "continuous_update": true,
            "description": "numIter",
            "description_tooltip": null,
            "disabled": false,
            "layout": "IPY_MODEL_43c9f044614a48ceaa747ac67164bfcb",
            "max": 20,
            "min": 0,
            "orientation": "horizontal",
            "readout": true,
            "readout_format": "d",
            "step": 1,
            "style": "IPY_MODEL_e2c0ee83d3f546b68070b25dda5ad5c4",
            "value": 6
          }
        },
        "56e0878d2d884d7ca46fdb769ae553b3": {
          "model_module": "@jupyter-widgets/output",
          "model_name": "OutputModel",
          "model_module_version": "1.0.0",
          "state": {
            "_dom_classes": [],
            "_model_module": "@jupyter-widgets/output",
            "_model_module_version": "1.0.0",
            "_model_name": "OutputModel",
            "_view_count": null,
            "_view_module": "@jupyter-widgets/output",
            "_view_module_version": "1.0.0",
            "_view_name": "OutputView",
            "layout": "IPY_MODEL_40e5543420e64386a4e45eb62276638b",
            "msg_id": "",
            "outputs": [
              {
                "output_type": "stream",
                "name": "stdout",
                "text": [
                  "time= 0.04\n"
                ]
              },
              {
                "output_type": "display_data",
                "data": {
                  "text/plain": "<Figure size 300x300 with 2 Axes>",
                  "image/png": "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\n"
                },
                "metadata": {}
              }
            ]
          }
        },
        "1d61ca59fda94567a41d169e471e30f3": {
          "model_module": "@jupyter-widgets/base",
          "model_name": "LayoutModel",
          "model_module_version": "1.2.0",
          "state": {
            "_model_module": "@jupyter-widgets/base",
            "_model_module_version": "1.2.0",
            "_model_name": "LayoutModel",
            "_view_count": null,
            "_view_module": "@jupyter-widgets/base",
            "_view_module_version": "1.2.0",
            "_view_name": "LayoutView",
            "align_content": null,
            "align_items": null,
            "align_self": null,
            "border": null,
            "bottom": null,
            "display": null,
            "flex": null,
            "flex_flow": null,
            "grid_area": null,
            "grid_auto_columns": null,
            "grid_auto_flow": null,
            "grid_auto_rows": null,
            "grid_column": null,
            "grid_gap": null,
            "grid_row": null,
            "grid_template_areas": null,
            "grid_template_columns": null,
            "grid_template_rows": null,
            "height": null,
            "justify_content": null,
            "justify_items": null,
            "left": null,
            "margin": null,
            "max_height": null,
            "max_width": null,
            "min_height": null,
            "min_width": null,
            "object_fit": null,
            "object_position": null,
            "order": null,
            "overflow": null,
            "overflow_x": null,
            "overflow_y": null,
            "padding": null,
            "right": null,
            "top": null,
            "visibility": null,
            "width": null
          }
        },
        "43c9f044614a48ceaa747ac67164bfcb": {
          "model_module": "@jupyter-widgets/base",
          "model_name": "LayoutModel",
          "model_module_version": "1.2.0",
          "state": {
            "_model_module": "@jupyter-widgets/base",
            "_model_module_version": "1.2.0",
            "_model_name": "LayoutModel",
            "_view_count": null,
            "_view_module": "@jupyter-widgets/base",
            "_view_module_version": "1.2.0",
            "_view_name": "LayoutView",
            "align_content": null,
            "align_items": null,
            "align_self": null,
            "border": null,
            "bottom": null,
            "display": null,
            "flex": null,
            "flex_flow": null,
            "grid_area": null,
            "grid_auto_columns": null,
            "grid_auto_flow": null,
            "grid_auto_rows": null,
            "grid_column": null,
            "grid_gap": null,
            "grid_row": null,
            "grid_template_areas": null,
            "grid_template_columns": null,
            "grid_template_rows": null,
            "height": null,
            "justify_content": null,
            "justify_items": null,
            "left": null,
            "margin": null,
            "max_height": null,
            "max_width": null,
            "min_height": null,
            "min_width": null,
            "object_fit": null,
            "object_position": null,
            "order": null,
            "overflow": null,
            "overflow_x": null,
            "overflow_y": null,
            "padding": null,
            "right": null,
            "top": null,
            "visibility": null,
            "width": null
          }
        },
        "e2c0ee83d3f546b68070b25dda5ad5c4": {
          "model_module": "@jupyter-widgets/controls",
          "model_name": "SliderStyleModel",
          "model_module_version": "1.5.0",
          "state": {
            "_model_module": "@jupyter-widgets/controls",
            "_model_module_version": "1.5.0",
            "_model_name": "SliderStyleModel",
            "_view_count": null,
            "_view_module": "@jupyter-widgets/base",
            "_view_module_version": "1.2.0",
            "_view_name": "StyleView",
            "description_width": "",
            "handle_color": null
          }
        },
        "40e5543420e64386a4e45eb62276638b": {
          "model_module": "@jupyter-widgets/base",
          "model_name": "LayoutModel",
          "model_module_version": "1.2.0",
          "state": {
            "_model_module": "@jupyter-widgets/base",
            "_model_module_version": "1.2.0",
            "_model_name": "LayoutModel",
            "_view_count": null,
            "_view_module": "@jupyter-widgets/base",
            "_view_module_version": "1.2.0",
            "_view_name": "LayoutView",
            "align_content": null,
            "align_items": null,
            "align_self": null,
            "border": null,
            "bottom": null,
            "display": null,
            "flex": null,
            "flex_flow": null,
            "grid_area": null,
            "grid_auto_columns": null,
            "grid_auto_flow": null,
            "grid_auto_rows": null,
            "grid_column": null,
            "grid_gap": null,
            "grid_row": null,
            "grid_template_areas": null,
            "grid_template_columns": null,
            "grid_template_rows": null,
            "height": null,
            "justify_content": null,
            "justify_items": null,
            "left": null,
            "margin": null,
            "max_height": null,
            "max_width": null,
            "min_height": null,
            "min_width": null,
            "object_fit": null,
            "object_position": null,
            "order": null,
            "overflow": null,
            "overflow_x": null,
            "overflow_y": null,
            "padding": null,
            "right": null,
            "top": null,
            "visibility": null,
            "width": null
          }
        },
        "190da51cf00b467c82c65611dfbe0ac7": {
          "model_module": "@jupyter-widgets/controls",
          "model_name": "VBoxModel",
          "model_module_version": "1.5.0",
          "state": {
            "_dom_classes": [
              "widget-interact"
            ],
            "_model_module": "@jupyter-widgets/controls",
            "_model_module_version": "1.5.0",
            "_model_name": "VBoxModel",
            "_view_count": null,
            "_view_module": "@jupyter-widgets/controls",
            "_view_module_version": "1.5.0",
            "_view_name": "VBoxView",
            "box_style": "",
            "children": [
              "IPY_MODEL_37fcd9cceadf466c8469cf127133cd1c",
              "IPY_MODEL_98e3c87baba046f390238bac400c6406"
            ],
            "layout": "IPY_MODEL_7ae478711ced4a6e9ed5df0ff6551e6d"
          }
        },
        "37fcd9cceadf466c8469cf127133cd1c": {
          "model_module": "@jupyter-widgets/controls",
          "model_name": "IntSliderModel",
          "model_module_version": "1.5.0",
          "state": {
            "_dom_classes": [],
            "_model_module": "@jupyter-widgets/controls",
            "_model_module_version": "1.5.0",
            "_model_name": "IntSliderModel",
            "_view_count": null,
            "_view_module": "@jupyter-widgets/controls",
            "_view_module_version": "1.5.0",
            "_view_name": "IntSliderView",
            "continuous_update": true,
            "description": "numIter",
            "description_tooltip": null,
            "disabled": false,
            "layout": "IPY_MODEL_91f3a483613a4088a6cb6734496c6e2f",
            "max": 20,
            "min": 0,
            "orientation": "horizontal",
            "readout": true,
            "readout_format": "d",
            "step": 1,
            "style": "IPY_MODEL_daa430149c7241f0b3164002ba521547",
            "value": 15
          }
        },
        "98e3c87baba046f390238bac400c6406": {
          "model_module": "@jupyter-widgets/output",
          "model_name": "OutputModel",
          "model_module_version": "1.0.0",
          "state": {
            "_dom_classes": [],
            "_model_module": "@jupyter-widgets/output",
            "_model_module_version": "1.0.0",
            "_model_name": "OutputModel",
            "_view_count": null,
            "_view_module": "@jupyter-widgets/output",
            "_view_module_version": "1.0.0",
            "_view_name": "OutputView",
            "layout": "IPY_MODEL_9e9d60075a334a9a9da1dd8174692d4a",
            "msg_id": "",
            "outputs": [
              {
                "output_type": "stream",
                "name": "stdout",
                "text": [
                  "time= 374.67\n"
                ]
              },
              {
                "output_type": "display_data",
                "data": {
                  "text/plain": "<Figure size 300x300 with 2 Axes>",
                  "image/png": "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\n"
                },
                "metadata": {}
              }
            ]
          }
        },
        "7ae478711ced4a6e9ed5df0ff6551e6d": {
          "model_module": "@jupyter-widgets/base",
          "model_name": "LayoutModel",
          "model_module_version": "1.2.0",
          "state": {
            "_model_module": "@jupyter-widgets/base",
            "_model_module_version": "1.2.0",
            "_model_name": "LayoutModel",
            "_view_count": null,
            "_view_module": "@jupyter-widgets/base",
            "_view_module_version": "1.2.0",
            "_view_name": "LayoutView",
            "align_content": null,
            "align_items": null,
            "align_self": null,
            "border": null,
            "bottom": null,
            "display": null,
            "flex": null,
            "flex_flow": null,
            "grid_area": null,
            "grid_auto_columns": null,
            "grid_auto_flow": null,
            "grid_auto_rows": null,
            "grid_column": null,
            "grid_gap": null,
            "grid_row": null,
            "grid_template_areas": null,
            "grid_template_columns": null,
            "grid_template_rows": null,
            "height": null,
            "justify_content": null,
            "justify_items": null,
            "left": null,
            "margin": null,
            "max_height": null,
            "max_width": null,
            "min_height": null,
            "min_width": null,
            "object_fit": null,
            "object_position": null,
            "order": null,
            "overflow": null,
            "overflow_x": null,
            "overflow_y": null,
            "padding": null,
            "right": null,
            "top": null,
            "visibility": null,
            "width": null
          }
        },
        "91f3a483613a4088a6cb6734496c6e2f": {
          "model_module": "@jupyter-widgets/base",
          "model_name": "LayoutModel",
          "model_module_version": "1.2.0",
          "state": {
            "_model_module": "@jupyter-widgets/base",
            "_model_module_version": "1.2.0",
            "_model_name": "LayoutModel",
            "_view_count": null,
            "_view_module": "@jupyter-widgets/base",
            "_view_module_version": "1.2.0",
            "_view_name": "LayoutView",
            "align_content": null,
            "align_items": null,
            "align_self": null,
            "border": null,
            "bottom": null,
            "display": null,
            "flex": null,
            "flex_flow": null,
            "grid_area": null,
            "grid_auto_columns": null,
            "grid_auto_flow": null,
            "grid_auto_rows": null,
            "grid_column": null,
            "grid_gap": null,
            "grid_row": null,
            "grid_template_areas": null,
            "grid_template_columns": null,
            "grid_template_rows": null,
            "height": null,
            "justify_content": null,
            "justify_items": null,
            "left": null,
            "margin": null,
            "max_height": null,
            "max_width": null,
            "min_height": null,
            "min_width": null,
            "object_fit": null,
            "object_position": null,
            "order": null,
            "overflow": null,
            "overflow_x": null,
            "overflow_y": null,
            "padding": null,
            "right": null,
            "top": null,
            "visibility": null,
            "width": null
          }
        },
        "daa430149c7241f0b3164002ba521547": {
          "model_module": "@jupyter-widgets/controls",
          "model_name": "SliderStyleModel",
          "model_module_version": "1.5.0",
          "state": {
            "_model_module": "@jupyter-widgets/controls",
            "_model_module_version": "1.5.0",
            "_model_name": "SliderStyleModel",
            "_view_count": null,
            "_view_module": "@jupyter-widgets/base",
            "_view_module_version": "1.2.0",
            "_view_name": "StyleView",
            "description_width": "",
            "handle_color": null
          }
        },
        "9e9d60075a334a9a9da1dd8174692d4a": {
          "model_module": "@jupyter-widgets/base",
          "model_name": "LayoutModel",
          "model_module_version": "1.2.0",
          "state": {
            "_model_module": "@jupyter-widgets/base",
            "_model_module_version": "1.2.0",
            "_model_name": "LayoutModel",
            "_view_count": null,
            "_view_module": "@jupyter-widgets/base",
            "_view_module_version": "1.2.0",
            "_view_name": "LayoutView",
            "align_content": null,
            "align_items": null,
            "align_self": null,
            "border": null,
            "bottom": null,
            "display": null,
            "flex": null,
            "flex_flow": null,
            "grid_area": null,
            "grid_auto_columns": null,
            "grid_auto_flow": null,
            "grid_auto_rows": null,
            "grid_column": null,
            "grid_gap": null,
            "grid_row": null,
            "grid_template_areas": null,
            "grid_template_columns": null,
            "grid_template_rows": null,
            "height": null,
            "justify_content": null,
            "justify_items": null,
            "left": null,
            "margin": null,
            "max_height": null,
            "max_width": null,
            "min_height": null,
            "min_width": null,
            "object_fit": null,
            "object_position": null,
            "order": null,
            "overflow": null,
            "overflow_x": null,
            "overflow_y": null,
            "padding": null,
            "right": null,
            "top": null,
            "visibility": null,
            "width": null
          }
        }
      }
    }
  },
  "nbformat": 4,
  "nbformat_minor": 0
}